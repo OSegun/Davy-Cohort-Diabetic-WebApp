{
 "cells": [
  {
   "cell_type": "code",
   "execution_count": 38,
   "metadata": {
    "id": "zCQBQPncw2zp"
   },
   "outputs": [],
   "source": [
    "import numpy as np\n",
    "import pandas as pd\n",
    "from sklearn.preprocessing import StandardScaler\n",
    "from sklearn.metrics import accuracy_score\n",
    "from sklearn.model_selection import train_test_split\n",
    "from sklearn.metrics import classification_report, confusion_matrix\n",
    "import seaborn as sns\n",
    "import matplotlib.pyplot as plt\n",
    "from sklearn import svm\n",
    "from sklearn.model_selection import GridSearchCV \n",
    "import pickle"
   ]
  },
  {
   "cell_type": "code",
   "execution_count": 2,
   "metadata": {
    "colab": {
     "base_uri": "https://localhost:8080/",
     "height": 270
    },
    "id": "RqTMu152xGxx",
    "outputId": "91d2ca32-a81a-4a09-84ae-55eea3062ccb"
   },
   "outputs": [
    {
     "data": {
      "text/html": [
       "<div>\n",
       "<style scoped>\n",
       "    .dataframe tbody tr th:only-of-type {\n",
       "        vertical-align: middle;\n",
       "    }\n",
       "\n",
       "    .dataframe tbody tr th {\n",
       "        vertical-align: top;\n",
       "    }\n",
       "\n",
       "    .dataframe thead th {\n",
       "        text-align: right;\n",
       "    }\n",
       "</style>\n",
       "<table border=\"1\" class=\"dataframe\">\n",
       "  <thead>\n",
       "    <tr style=\"text-align: right;\">\n",
       "      <th></th>\n",
       "      <th>Pregnancies</th>\n",
       "      <th>Glucose</th>\n",
       "      <th>BloodPressure</th>\n",
       "      <th>SkinThickness</th>\n",
       "      <th>Insulin</th>\n",
       "      <th>BMI</th>\n",
       "      <th>DiabetesPedigreeFunction</th>\n",
       "      <th>Age</th>\n",
       "      <th>Outcome</th>\n",
       "    </tr>\n",
       "  </thead>\n",
       "  <tbody>\n",
       "    <tr>\n",
       "      <th>0</th>\n",
       "      <td>6</td>\n",
       "      <td>148</td>\n",
       "      <td>72</td>\n",
       "      <td>35</td>\n",
       "      <td>0</td>\n",
       "      <td>33.6</td>\n",
       "      <td>0.627</td>\n",
       "      <td>50</td>\n",
       "      <td>1</td>\n",
       "    </tr>\n",
       "    <tr>\n",
       "      <th>1</th>\n",
       "      <td>1</td>\n",
       "      <td>85</td>\n",
       "      <td>66</td>\n",
       "      <td>29</td>\n",
       "      <td>0</td>\n",
       "      <td>26.6</td>\n",
       "      <td>0.351</td>\n",
       "      <td>31</td>\n",
       "      <td>0</td>\n",
       "    </tr>\n",
       "    <tr>\n",
       "      <th>2</th>\n",
       "      <td>8</td>\n",
       "      <td>183</td>\n",
       "      <td>64</td>\n",
       "      <td>0</td>\n",
       "      <td>0</td>\n",
       "      <td>23.3</td>\n",
       "      <td>0.672</td>\n",
       "      <td>32</td>\n",
       "      <td>1</td>\n",
       "    </tr>\n",
       "    <tr>\n",
       "      <th>3</th>\n",
       "      <td>1</td>\n",
       "      <td>89</td>\n",
       "      <td>66</td>\n",
       "      <td>23</td>\n",
       "      <td>94</td>\n",
       "      <td>28.1</td>\n",
       "      <td>0.167</td>\n",
       "      <td>21</td>\n",
       "      <td>0</td>\n",
       "    </tr>\n",
       "    <tr>\n",
       "      <th>4</th>\n",
       "      <td>0</td>\n",
       "      <td>137</td>\n",
       "      <td>40</td>\n",
       "      <td>35</td>\n",
       "      <td>168</td>\n",
       "      <td>43.1</td>\n",
       "      <td>2.288</td>\n",
       "      <td>33</td>\n",
       "      <td>1</td>\n",
       "    </tr>\n",
       "  </tbody>\n",
       "</table>\n",
       "</div>"
      ],
      "text/plain": [
       "   Pregnancies  Glucose  BloodPressure  SkinThickness  Insulin   BMI  \\\n",
       "0            6      148             72             35        0  33.6   \n",
       "1            1       85             66             29        0  26.6   \n",
       "2            8      183             64              0        0  23.3   \n",
       "3            1       89             66             23       94  28.1   \n",
       "4            0      137             40             35      168  43.1   \n",
       "\n",
       "   DiabetesPedigreeFunction  Age  Outcome  \n",
       "0                     0.627   50        1  \n",
       "1                     0.351   31        0  \n",
       "2                     0.672   32        1  \n",
       "3                     0.167   21        0  \n",
       "4                     2.288   33        1  "
      ]
     },
     "execution_count": 2,
     "metadata": {},
     "output_type": "execute_result"
    }
   ],
   "source": [
    "diabetic_data = pd.read_csv('diabetes.csv')\n",
    "\n",
    "diabetic_data.head()"
   ]
  },
  {
   "cell_type": "code",
   "execution_count": 3,
   "metadata": {
    "colab": {
     "base_uri": "https://localhost:8080/",
     "height": 364
    },
    "id": "1_ZYRf1pxqfa",
    "outputId": "9b147d46-ce1b-4bc5-ef8d-c9aa98648cb5"
   },
   "outputs": [
    {
     "data": {
      "text/html": [
       "<div>\n",
       "<style scoped>\n",
       "    .dataframe tbody tr th:only-of-type {\n",
       "        vertical-align: middle;\n",
       "    }\n",
       "\n",
       "    .dataframe tbody tr th {\n",
       "        vertical-align: top;\n",
       "    }\n",
       "\n",
       "    .dataframe thead th {\n",
       "        text-align: right;\n",
       "    }\n",
       "</style>\n",
       "<table border=\"1\" class=\"dataframe\">\n",
       "  <thead>\n",
       "    <tr style=\"text-align: right;\">\n",
       "      <th></th>\n",
       "      <th>Pregnancies</th>\n",
       "      <th>Glucose</th>\n",
       "      <th>BloodPressure</th>\n",
       "      <th>SkinThickness</th>\n",
       "      <th>Insulin</th>\n",
       "      <th>BMI</th>\n",
       "      <th>DiabetesPedigreeFunction</th>\n",
       "      <th>Age</th>\n",
       "      <th>Outcome</th>\n",
       "    </tr>\n",
       "  </thead>\n",
       "  <tbody>\n",
       "    <tr>\n",
       "      <th>count</th>\n",
       "      <td>768.000000</td>\n",
       "      <td>768.000000</td>\n",
       "      <td>768.000000</td>\n",
       "      <td>768.000000</td>\n",
       "      <td>768.000000</td>\n",
       "      <td>768.000000</td>\n",
       "      <td>768.000000</td>\n",
       "      <td>768.000000</td>\n",
       "      <td>768.000000</td>\n",
       "    </tr>\n",
       "    <tr>\n",
       "      <th>mean</th>\n",
       "      <td>3.845052</td>\n",
       "      <td>120.894531</td>\n",
       "      <td>69.105469</td>\n",
       "      <td>20.536458</td>\n",
       "      <td>79.799479</td>\n",
       "      <td>31.992578</td>\n",
       "      <td>0.471876</td>\n",
       "      <td>33.240885</td>\n",
       "      <td>0.348958</td>\n",
       "    </tr>\n",
       "    <tr>\n",
       "      <th>std</th>\n",
       "      <td>3.369578</td>\n",
       "      <td>31.972618</td>\n",
       "      <td>19.355807</td>\n",
       "      <td>15.952218</td>\n",
       "      <td>115.244002</td>\n",
       "      <td>7.884160</td>\n",
       "      <td>0.331329</td>\n",
       "      <td>11.760232</td>\n",
       "      <td>0.476951</td>\n",
       "    </tr>\n",
       "    <tr>\n",
       "      <th>min</th>\n",
       "      <td>0.000000</td>\n",
       "      <td>0.000000</td>\n",
       "      <td>0.000000</td>\n",
       "      <td>0.000000</td>\n",
       "      <td>0.000000</td>\n",
       "      <td>0.000000</td>\n",
       "      <td>0.078000</td>\n",
       "      <td>21.000000</td>\n",
       "      <td>0.000000</td>\n",
       "    </tr>\n",
       "    <tr>\n",
       "      <th>25%</th>\n",
       "      <td>1.000000</td>\n",
       "      <td>99.000000</td>\n",
       "      <td>62.000000</td>\n",
       "      <td>0.000000</td>\n",
       "      <td>0.000000</td>\n",
       "      <td>27.300000</td>\n",
       "      <td>0.243750</td>\n",
       "      <td>24.000000</td>\n",
       "      <td>0.000000</td>\n",
       "    </tr>\n",
       "    <tr>\n",
       "      <th>50%</th>\n",
       "      <td>3.000000</td>\n",
       "      <td>117.000000</td>\n",
       "      <td>72.000000</td>\n",
       "      <td>23.000000</td>\n",
       "      <td>30.500000</td>\n",
       "      <td>32.000000</td>\n",
       "      <td>0.372500</td>\n",
       "      <td>29.000000</td>\n",
       "      <td>0.000000</td>\n",
       "    </tr>\n",
       "    <tr>\n",
       "      <th>75%</th>\n",
       "      <td>6.000000</td>\n",
       "      <td>140.250000</td>\n",
       "      <td>80.000000</td>\n",
       "      <td>32.000000</td>\n",
       "      <td>127.250000</td>\n",
       "      <td>36.600000</td>\n",
       "      <td>0.626250</td>\n",
       "      <td>41.000000</td>\n",
       "      <td>1.000000</td>\n",
       "    </tr>\n",
       "    <tr>\n",
       "      <th>max</th>\n",
       "      <td>17.000000</td>\n",
       "      <td>199.000000</td>\n",
       "      <td>122.000000</td>\n",
       "      <td>99.000000</td>\n",
       "      <td>846.000000</td>\n",
       "      <td>67.100000</td>\n",
       "      <td>2.420000</td>\n",
       "      <td>81.000000</td>\n",
       "      <td>1.000000</td>\n",
       "    </tr>\n",
       "  </tbody>\n",
       "</table>\n",
       "</div>"
      ],
      "text/plain": [
       "       Pregnancies     Glucose  BloodPressure  SkinThickness     Insulin  \\\n",
       "count   768.000000  768.000000     768.000000     768.000000  768.000000   \n",
       "mean      3.845052  120.894531      69.105469      20.536458   79.799479   \n",
       "std       3.369578   31.972618      19.355807      15.952218  115.244002   \n",
       "min       0.000000    0.000000       0.000000       0.000000    0.000000   \n",
       "25%       1.000000   99.000000      62.000000       0.000000    0.000000   \n",
       "50%       3.000000  117.000000      72.000000      23.000000   30.500000   \n",
       "75%       6.000000  140.250000      80.000000      32.000000  127.250000   \n",
       "max      17.000000  199.000000     122.000000      99.000000  846.000000   \n",
       "\n",
       "              BMI  DiabetesPedigreeFunction         Age     Outcome  \n",
       "count  768.000000                768.000000  768.000000  768.000000  \n",
       "mean    31.992578                  0.471876   33.240885    0.348958  \n",
       "std      7.884160                  0.331329   11.760232    0.476951  \n",
       "min      0.000000                  0.078000   21.000000    0.000000  \n",
       "25%     27.300000                  0.243750   24.000000    0.000000  \n",
       "50%     32.000000                  0.372500   29.000000    0.000000  \n",
       "75%     36.600000                  0.626250   41.000000    1.000000  \n",
       "max     67.100000                  2.420000   81.000000    1.000000  "
      ]
     },
     "execution_count": 3,
     "metadata": {},
     "output_type": "execute_result"
    }
   ],
   "source": [
    "diabetic_data.describe()"
   ]
  },
  {
   "cell_type": "code",
   "execution_count": 4,
   "metadata": {
    "colab": {
     "base_uri": "https://localhost:8080/"
    },
    "id": "6y5a5S_Ox3Cl",
    "outputId": "2becd1f7-3c74-47a8-cea0-1af63a9c5ec9"
   },
   "outputs": [
    {
     "data": {
      "text/plain": [
       "(768, 9)"
      ]
     },
     "execution_count": 4,
     "metadata": {},
     "output_type": "execute_result"
    }
   ],
   "source": [
    "diabetic_data.shape"
   ]
  },
  {
   "cell_type": "code",
   "execution_count": 29,
   "metadata": {},
   "outputs": [
    {
     "data": {
      "text/plain": [
       "Index(['Pregnancies', 'Glucose', 'BloodPressure', 'SkinThickness', 'Insulin',\n",
       "       'BMI', 'DiabetesPedigreeFunction', 'Age', 'Outcome'],\n",
       "      dtype='object')"
      ]
     },
     "execution_count": 29,
     "metadata": {},
     "output_type": "execute_result"
    }
   ],
   "source": [
    "diabetic_data.columns"
   ]
  },
  {
   "cell_type": "code",
   "execution_count": 5,
   "metadata": {
    "colab": {
     "base_uri": "https://localhost:8080/"
    },
    "id": "-mh70Amcx9_v",
    "outputId": "a64037d6-4068-410c-c067-d81ef880410b"
   },
   "outputs": [
    {
     "data": {
      "text/plain": [
       "Outcome\n",
       "0    500\n",
       "1    268\n",
       "Name: count, dtype: int64"
      ]
     },
     "execution_count": 5,
     "metadata": {},
     "output_type": "execute_result"
    }
   ],
   "source": [
    "diabetic_data['Outcome'].value_counts()"
   ]
  },
  {
   "cell_type": "code",
   "execution_count": 6,
   "metadata": {
    "colab": {
     "base_uri": "https://localhost:8080/",
     "height": 207
    },
    "id": "xaBMONg_yJLI",
    "outputId": "8fd397cc-201a-44d8-c739-24e972eeea3b"
   },
   "outputs": [
    {
     "data": {
      "text/html": [
       "<div>\n",
       "<style scoped>\n",
       "    .dataframe tbody tr th:only-of-type {\n",
       "        vertical-align: middle;\n",
       "    }\n",
       "\n",
       "    .dataframe tbody tr th {\n",
       "        vertical-align: top;\n",
       "    }\n",
       "\n",
       "    .dataframe thead th {\n",
       "        text-align: right;\n",
       "    }\n",
       "</style>\n",
       "<table border=\"1\" class=\"dataframe\">\n",
       "  <thead>\n",
       "    <tr style=\"text-align: right;\">\n",
       "      <th></th>\n",
       "      <th>Pregnancies</th>\n",
       "      <th>Glucose</th>\n",
       "      <th>BloodPressure</th>\n",
       "      <th>SkinThickness</th>\n",
       "      <th>Insulin</th>\n",
       "      <th>BMI</th>\n",
       "      <th>DiabetesPedigreeFunction</th>\n",
       "      <th>Age</th>\n",
       "    </tr>\n",
       "    <tr>\n",
       "      <th>Outcome</th>\n",
       "      <th></th>\n",
       "      <th></th>\n",
       "      <th></th>\n",
       "      <th></th>\n",
       "      <th></th>\n",
       "      <th></th>\n",
       "      <th></th>\n",
       "      <th></th>\n",
       "    </tr>\n",
       "  </thead>\n",
       "  <tbody>\n",
       "    <tr>\n",
       "      <th>0</th>\n",
       "      <td>3.298000</td>\n",
       "      <td>109.980000</td>\n",
       "      <td>68.184000</td>\n",
       "      <td>19.664000</td>\n",
       "      <td>68.792000</td>\n",
       "      <td>30.304200</td>\n",
       "      <td>0.429734</td>\n",
       "      <td>31.190000</td>\n",
       "    </tr>\n",
       "    <tr>\n",
       "      <th>1</th>\n",
       "      <td>4.865672</td>\n",
       "      <td>141.257463</td>\n",
       "      <td>70.824627</td>\n",
       "      <td>22.164179</td>\n",
       "      <td>100.335821</td>\n",
       "      <td>35.142537</td>\n",
       "      <td>0.550500</td>\n",
       "      <td>37.067164</td>\n",
       "    </tr>\n",
       "  </tbody>\n",
       "</table>\n",
       "</div>"
      ],
      "text/plain": [
       "         Pregnancies     Glucose  BloodPressure  SkinThickness     Insulin  \\\n",
       "Outcome                                                                      \n",
       "0           3.298000  109.980000      68.184000      19.664000   68.792000   \n",
       "1           4.865672  141.257463      70.824627      22.164179  100.335821   \n",
       "\n",
       "               BMI  DiabetesPedigreeFunction        Age  \n",
       "Outcome                                                  \n",
       "0        30.304200                  0.429734  31.190000  \n",
       "1        35.142537                  0.550500  37.067164  "
      ]
     },
     "execution_count": 6,
     "metadata": {},
     "output_type": "execute_result"
    }
   ],
   "source": [
    "diabetic_data.groupby('Outcome').mean()"
   ]
  },
  {
   "cell_type": "code",
   "execution_count": 7,
   "metadata": {
    "id": "jpuZmbPnyxOF"
   },
   "outputs": [],
   "source": [
    "X = np.array(diabetic_data.drop(columns='Outcome', axis=1))\n",
    "Y = np.array(diabetic_data['Outcome'])"
   ]
  },
  {
   "cell_type": "code",
   "execution_count": 8,
   "metadata": {
    "id": "zTiDrjyfzNlg"
   },
   "outputs": [],
   "source": [
    "scalar = StandardScaler()\n",
    "\n",
    "std_data = scalar.fit_transform(X)\n",
    "\n",
    "X = std_data"
   ]
  },
  {
   "cell_type": "code",
   "execution_count": 9,
   "metadata": {
    "colab": {
     "base_uri": "https://localhost:8080/"
    },
    "id": "gL5_UyP-z5d4",
    "outputId": "71ddb24f-ef59-49d3-927e-c64cae4e1d28"
   },
   "outputs": [
    {
     "name": "stdout",
     "output_type": "stream",
     "text": [
      "[[ 0.63994726  0.84832379  0.14964075 ...  0.20401277  0.46849198\n",
      "   1.4259954 ]\n",
      " [-0.84488505 -1.12339636 -0.16054575 ... -0.68442195 -0.36506078\n",
      "  -0.19067191]\n",
      " [ 1.23388019  1.94372388 -0.26394125 ... -1.10325546  0.60439732\n",
      "  -0.10558415]\n",
      " ...\n",
      " [ 0.3429808   0.00330087  0.14964075 ... -0.73518964 -0.68519336\n",
      "  -0.27575966]\n",
      " [-0.84488505  0.1597866  -0.47073225 ... -0.24020459 -0.37110101\n",
      "   1.17073215]\n",
      " [-0.84488505 -0.8730192   0.04624525 ... -0.20212881 -0.47378505\n",
      "  -0.87137393]]\n",
      "[1 0 1 0 1 0 1 0 1 1 0 1 0 1 1 1 1 1 0 1 0 0 1 1 1 1 1 0 0 0 0 1 0 0 0 0 0\n",
      " 1 1 1 0 0 0 1 0 1 0 0 1 0 0 0 0 1 0 0 1 0 0 0 0 1 0 0 1 0 1 0 0 0 1 0 1 0\n",
      " 0 0 0 0 1 0 0 0 0 0 1 0 0 0 1 0 0 0 0 1 0 0 0 0 0 1 1 0 0 0 0 0 0 0 0 1 1\n",
      " 1 0 0 1 1 1 0 0 0 1 0 0 0 1 1 0 0 1 1 1 1 1 0 0 0 0 0 0 0 0 0 0 1 0 0 0 0\n",
      " 0 0 0 0 1 0 1 1 0 0 0 1 0 0 0 0 1 1 0 0 0 0 1 1 0 0 0 1 0 1 0 1 0 0 0 0 0\n",
      " 1 1 1 1 1 0 0 1 1 0 1 0 1 1 1 0 0 0 0 0 0 1 1 0 1 0 0 0 1 1 1 1 0 1 1 1 1\n",
      " 0 0 0 0 0 1 0 0 1 1 0 0 0 1 1 1 1 0 0 0 1 1 0 1 0 0 0 0 0 0 0 0 1 1 0 0 0\n",
      " 1 0 1 0 0 1 0 1 0 0 1 1 0 0 0 0 0 1 0 0 0 1 0 0 1 1 0 0 1 0 0 0 1 1 1 0 0\n",
      " 1 0 1 0 1 1 0 1 0 0 1 0 1 1 0 0 1 0 1 0 0 1 0 1 0 1 1 1 0 0 1 0 1 0 0 0 1\n",
      " 0 0 0 0 1 1 1 0 0 0 0 0 0 0 0 0 1 0 0 0 0 0 1 1 1 0 1 1 0 0 1 0 0 1 0 0 1\n",
      " 1 0 0 0 0 1 0 0 1 0 0 0 0 0 0 0 1 1 1 0 0 1 0 0 1 0 0 1 0 1 1 0 1 0 1 0 1\n",
      " 0 1 1 0 0 0 0 1 1 0 1 0 1 0 0 0 0 1 1 0 1 0 1 0 0 0 0 0 1 0 0 0 0 1 0 0 1\n",
      " 1 1 0 0 1 0 0 1 0 0 0 1 0 0 1 0 0 0 0 0 0 0 0 0 1 0 0 0 0 0 0 0 1 0 0 0 1\n",
      " 0 0 0 1 1 0 0 0 0 0 0 0 1 0 0 0 0 1 0 0 0 1 0 0 0 1 0 0 0 1 0 0 0 0 1 1 0\n",
      " 0 0 0 0 0 1 0 0 0 0 0 0 0 0 0 0 0 1 0 0 0 1 1 1 1 0 0 1 1 0 0 0 0 0 0 0 0\n",
      " 0 0 0 0 0 1 1 0 0 0 0 0 0 0 1 0 0 0 0 0 0 0 1 0 1 1 0 0 0 1 0 1 0 1 0 1 0\n",
      " 1 0 0 1 0 0 1 0 0 0 0 1 1 0 1 0 0 0 0 1 1 0 1 0 0 0 1 1 0 0 0 0 0 0 0 0 0\n",
      " 0 1 0 0 0 0 1 0 0 1 0 0 0 1 0 0 0 1 1 1 0 0 0 0 0 0 1 0 0 0 1 0 1 1 1 1 0\n",
      " 1 1 0 0 0 0 0 0 0 1 1 0 1 0 0 1 0 1 0 0 0 0 0 1 0 1 0 1 0 1 1 0 0 0 0 1 1\n",
      " 0 0 0 1 0 1 1 0 0 1 0 0 1 1 0 0 1 0 0 1 0 0 0 0 0 0 0 1 1 1 0 0 0 0 0 0 1\n",
      " 1 0 0 1 0 0 1 0 1 1 1 0 0 1 1 1 0 1 0 1 0 1 0 0 0 0 1 0]\n"
     ]
    }
   ],
   "source": [
    "print(X)\n",
    "print(Y)"
   ]
  },
  {
   "cell_type": "code",
   "execution_count": 10,
   "metadata": {
    "id": "JtY0Xz2w0DB5"
   },
   "outputs": [],
   "source": [
    "X_train, X_test, Y_train, Y_test = train_test_split(X, Y, test_size=0.2, stratify=Y)"
   ]
  },
  {
   "cell_type": "code",
   "execution_count": 11,
   "metadata": {
    "colab": {
     "base_uri": "https://localhost:8080/"
    },
    "id": "kmW_aeWf0amk",
    "outputId": "8f77d9d1-dbe1-4c21-c95a-4cb1c9e32220"
   },
   "outputs": [
    {
     "name": "stdout",
     "output_type": "stream",
     "text": [
      "(768, 8) (614, 8) (154, 8)\n"
     ]
    }
   ],
   "source": [
    "print(X.shape, X_train.shape, X_test.shape)"
   ]
  },
  {
   "cell_type": "code",
   "execution_count": 12,
   "metadata": {
    "colab": {
     "base_uri": "https://localhost:8080/"
    },
    "id": "w4MdJwKb0f_W",
    "outputId": "45a0b820-da10-464d-cf19-dca9a2d05d0d"
   },
   "outputs": [
    {
     "data": {
      "text/html": [
       "<style>#sk-container-id-1 {color: black;}#sk-container-id-1 pre{padding: 0;}#sk-container-id-1 div.sk-toggleable {background-color: white;}#sk-container-id-1 label.sk-toggleable__label {cursor: pointer;display: block;width: 100%;margin-bottom: 0;padding: 0.3em;box-sizing: border-box;text-align: center;}#sk-container-id-1 label.sk-toggleable__label-arrow:before {content: \"▸\";float: left;margin-right: 0.25em;color: #696969;}#sk-container-id-1 label.sk-toggleable__label-arrow:hover:before {color: black;}#sk-container-id-1 div.sk-estimator:hover label.sk-toggleable__label-arrow:before {color: black;}#sk-container-id-1 div.sk-toggleable__content {max-height: 0;max-width: 0;overflow: hidden;text-align: left;background-color: #f0f8ff;}#sk-container-id-1 div.sk-toggleable__content pre {margin: 0.2em;color: black;border-radius: 0.25em;background-color: #f0f8ff;}#sk-container-id-1 input.sk-toggleable__control:checked~div.sk-toggleable__content {max-height: 200px;max-width: 100%;overflow: auto;}#sk-container-id-1 input.sk-toggleable__control:checked~label.sk-toggleable__label-arrow:before {content: \"▾\";}#sk-container-id-1 div.sk-estimator input.sk-toggleable__control:checked~label.sk-toggleable__label {background-color: #d4ebff;}#sk-container-id-1 div.sk-label input.sk-toggleable__control:checked~label.sk-toggleable__label {background-color: #d4ebff;}#sk-container-id-1 input.sk-hidden--visually {border: 0;clip: rect(1px 1px 1px 1px);clip: rect(1px, 1px, 1px, 1px);height: 1px;margin: -1px;overflow: hidden;padding: 0;position: absolute;width: 1px;}#sk-container-id-1 div.sk-estimator {font-family: monospace;background-color: #f0f8ff;border: 1px dotted black;border-radius: 0.25em;box-sizing: border-box;margin-bottom: 0.5em;}#sk-container-id-1 div.sk-estimator:hover {background-color: #d4ebff;}#sk-container-id-1 div.sk-parallel-item::after {content: \"\";width: 100%;border-bottom: 1px solid gray;flex-grow: 1;}#sk-container-id-1 div.sk-label:hover label.sk-toggleable__label {background-color: #d4ebff;}#sk-container-id-1 div.sk-serial::before {content: \"\";position: absolute;border-left: 1px solid gray;box-sizing: border-box;top: 0;bottom: 0;left: 50%;z-index: 0;}#sk-container-id-1 div.sk-serial {display: flex;flex-direction: column;align-items: center;background-color: white;padding-right: 0.2em;padding-left: 0.2em;position: relative;}#sk-container-id-1 div.sk-item {position: relative;z-index: 1;}#sk-container-id-1 div.sk-parallel {display: flex;align-items: stretch;justify-content: center;background-color: white;position: relative;}#sk-container-id-1 div.sk-item::before, #sk-container-id-1 div.sk-parallel-item::before {content: \"\";position: absolute;border-left: 1px solid gray;box-sizing: border-box;top: 0;bottom: 0;left: 50%;z-index: -1;}#sk-container-id-1 div.sk-parallel-item {display: flex;flex-direction: column;z-index: 1;position: relative;background-color: white;}#sk-container-id-1 div.sk-parallel-item:first-child::after {align-self: flex-end;width: 50%;}#sk-container-id-1 div.sk-parallel-item:last-child::after {align-self: flex-start;width: 50%;}#sk-container-id-1 div.sk-parallel-item:only-child::after {width: 0;}#sk-container-id-1 div.sk-dashed-wrapped {border: 1px dashed gray;margin: 0 0.4em 0.5em 0.4em;box-sizing: border-box;padding-bottom: 0.4em;background-color: white;}#sk-container-id-1 div.sk-label label {font-family: monospace;font-weight: bold;display: inline-block;line-height: 1.2em;}#sk-container-id-1 div.sk-label-container {text-align: center;}#sk-container-id-1 div.sk-container {/* jupyter's `normalize.less` sets `[hidden] { display: none; }` but bootstrap.min.css set `[hidden] { display: none !important; }` so we also need the `!important` here to be able to override the default hidden behavior on the sphinx rendered scikit-learn.org. See: https://github.com/scikit-learn/scikit-learn/issues/21755 */display: inline-block !important;position: relative;}#sk-container-id-1 div.sk-text-repr-fallback {display: none;}</style><div id=\"sk-container-id-1\" class=\"sk-top-container\"><div class=\"sk-text-repr-fallback\"><pre>SVC(kernel=&#x27;linear&#x27;)</pre><b>In a Jupyter environment, please rerun this cell to show the HTML representation or trust the notebook. <br />On GitHub, the HTML representation is unable to render, please try loading this page with nbviewer.org.</b></div><div class=\"sk-container\" hidden><div class=\"sk-item\"><div class=\"sk-estimator sk-toggleable\"><input class=\"sk-toggleable__control sk-hidden--visually\" id=\"sk-estimator-id-1\" type=\"checkbox\" checked><label for=\"sk-estimator-id-1\" class=\"sk-toggleable__label sk-toggleable__label-arrow\">SVC</label><div class=\"sk-toggleable__content\"><pre>SVC(kernel=&#x27;linear&#x27;)</pre></div></div></div></div></div>"
      ],
      "text/plain": [
       "SVC(kernel='linear')"
      ]
     },
     "execution_count": 12,
     "metadata": {},
     "output_type": "execute_result"
    }
   ],
   "source": [
    "classifier = svm.SVC(kernel='linear')\n",
    "\n",
    "classifier.fit(X_train, Y_train)"
   ]
  },
  {
   "cell_type": "code",
   "execution_count": 13,
   "metadata": {
    "id": "IFmvErOQ1b5j"
   },
   "outputs": [],
   "source": [
    "X_train_prediction = classifier.predict(X_train)\n",
    "training_data_accuracy = accuracy_score(X_train_prediction, Y_train)"
   ]
  },
  {
   "cell_type": "code",
   "execution_count": 14,
   "metadata": {
    "colab": {
     "base_uri": "https://localhost:8080/"
    },
    "id": "mzVw2R_72Eq4",
    "outputId": "78848ae6-ca7f-4180-a9b5-396ff5b6cf06"
   },
   "outputs": [
    {
     "name": "stdout",
     "output_type": "stream",
     "text": [
      "Accuracy Score of the training data :  0.7785016286644951\n"
     ]
    }
   ],
   "source": [
    "print('Accuracy Score of the training data : ', training_data_accuracy)"
   ]
  },
  {
   "cell_type": "code",
   "execution_count": 15,
   "metadata": {
    "id": "Bn0H1KoD2bGY"
   },
   "outputs": [],
   "source": [
    "X_test_prediction = classifier.predict(X_test)\n",
    "test_data_accuracy = accuracy_score(X_test_prediction, Y_test)"
   ]
  },
  {
   "cell_type": "code",
   "execution_count": 16,
   "metadata": {
    "colab": {
     "base_uri": "https://localhost:8080/"
    },
    "id": "9rufzssR26zo",
    "outputId": "1e2c7f47-5282-4f8f-d883-ebab385be0c5"
   },
   "outputs": [
    {
     "name": "stdout",
     "output_type": "stream",
     "text": [
      "Accuracy Score of the test data :  0.7922077922077922\n"
     ]
    }
   ],
   "source": [
    "print('Accuracy Score of the test data : ', test_data_accuracy)"
   ]
  },
  {
   "cell_type": "code",
   "execution_count": 17,
   "metadata": {
    "colab": {
     "base_uri": "https://localhost:8080/"
    },
    "id": "OLzZrdTddFyU",
    "outputId": "1a83e269-0759-443b-e83f-bccc3e7bc122"
   },
   "outputs": [
    {
     "name": "stdout",
     "output_type": "stream",
     "text": [
      "[0 1 0 1 0 0 0 1 0 0 0 1 1 0 0 0 0 0 0 1 0 1 0 1 0 0 0 1 1 0 0 1 0 1 0 1 0\n",
      " 0 1 1 0 0 0 0 0 0 0 1 0 0 1 0 1 0 0 0 0 1 1 0 1 0 0 1 1 0 1 0 0 1 0 1 0 0\n",
      " 0 0 1 0 0 0 0 0 0 1 1 0 1 0 0 0 1 1 0 0 0 1 0 0 0 0 0 0 1 0 0 0 0 0 0 0 1\n",
      " 0 0 0 1 0 0 1 0 0 0 0 1 1 1 0 1 0 0 0 0 0 0 1 0 0 0 1 0 1 0 1 1 1 0 0 0 0\n",
      " 0 0 0 1 0 0]\n"
     ]
    }
   ],
   "source": [
    "print(X_test_prediction)"
   ]
  },
  {
   "cell_type": "code",
   "execution_count": 34,
   "metadata": {},
   "outputs": [
    {
     "name": "stdout",
     "output_type": "stream",
     "text": [
      "              precision    recall  f1-score   support\n",
      "\n",
      "           0       0.82      0.87      0.84       100\n",
      "           1       0.73      0.65      0.69        54\n",
      "\n",
      "    accuracy                           0.79       154\n",
      "   macro avg       0.77      0.76      0.77       154\n",
      "weighted avg       0.79      0.79      0.79       154\n",
      "\n"
     ]
    }
   ],
   "source": [
    "print(classification_report(Y_test, X_test_prediction)) "
   ]
  },
  {
   "cell_type": "code",
   "execution_count": 37,
   "metadata": {},
   "outputs": [
    {
     "data": {
      "text/plain": [
       "<Axes: xlabel='Actual', ylabel='Predicted'>"
      ]
     },
     "execution_count": 37,
     "metadata": {},
     "output_type": "execute_result"
    },
    {
     "data": {
      "image/png": "[encoded data removed]",
      "text/plain": [
       "<Figure size 640x480 with 2 Axes>"
      ]
     },
     "metadata": {},
     "output_type": "display_data"
    }
   ],
   "source": [
    "confusion_matrix = pd.crosstab(Y_test, X_test_prediction, colnames=['Actual'], rownames=['Predicted'])\n",
    "sns.heatmap(confusion_matrix, annot=True)"
   ]
  },
  {
   "cell_type": "code",
   "execution_count": 39,
   "metadata": {},
   "outputs": [
    {
     "name": "stdout",
     "output_type": "stream",
     "text": [
      "Fitting 5 folds for each of 25 candidates, totalling 125 fits\n",
      "[CV 1/5; 1/25] START C=0.1, gamma=1, kernel=rbf.................................\n",
      "[CV 1/5; 1/25] END C=0.1, gamma=1, kernel=rbf;, score=(train=0.652, test=0.650) total time=   0.0s\n",
      "[CV 2/5; 1/25] START C=0.1, gamma=1, kernel=rbf.................................\n",
      "[CV 2/5; 1/25] END C=0.1, gamma=1, kernel=rbf;, score=(train=0.652, test=0.650) total time=   0.0s\n",
      "[CV 3/5; 1/25] START C=0.1, gamma=1, kernel=rbf.................................\n",
      "[CV 3/5; 1/25] END C=0.1, gamma=1, kernel=rbf;, score=(train=0.652, test=0.650) total time=   0.0s\n",
      "[CV 4/5; 1/25] START C=0.1, gamma=1, kernel=rbf.................................\n",
      "[CV 4/5; 1/25] END C=0.1, gamma=1, kernel=rbf;, score=(train=0.652, test=0.650) total time=   0.0s\n",
      "[CV 5/5; 1/25] START C=0.1, gamma=1, kernel=rbf.................................\n",
      "[CV 5/5; 1/25] END C=0.1, gamma=1, kernel=rbf;, score=(train=0.650, test=0.656) total time=   0.0s\n",
      "[CV 1/5; 2/25] START C=0.1, gamma=0.1, kernel=rbf...............................\n",
      "[CV 1/5; 2/25] END C=0.1, gamma=0.1, kernel=rbf;, score=(train=0.756, test=0.707) total time=   0.0s\n",
      "[CV 2/5; 2/25] START C=0.1, gamma=0.1, kernel=rbf...............................\n",
      "[CV 2/5; 2/25] END C=0.1, gamma=0.1, kernel=rbf;, score=(train=0.772, test=0.715) total time=   0.0s\n",
      "[CV 3/5; 2/25] START C=0.1, gamma=0.1, kernel=rbf...............................\n",
      "[CV 3/5; 2/25] END C=0.1, gamma=0.1, kernel=rbf;, score=(train=0.723, test=0.756) total time=   0.0s\n",
      "[CV 4/5; 2/25] START C=0.1, gamma=0.1, kernel=rbf...............................\n",
      "[CV 4/5; 2/25] END C=0.1, gamma=0.1, kernel=rbf;, score=(train=0.764, test=0.707) total time=   0.0s\n",
      "[CV 5/5; 2/25] START C=0.1, gamma=0.1, kernel=rbf...............................\n",
      "[CV 5/5; 2/25] END C=0.1, gamma=0.1, kernel=rbf;, score=(train=0.789, test=0.721) total time=   0.0s\n",
      "[CV 1/5; 3/25] START C=0.1, gamma=0.01, kernel=rbf..............................\n",
      "[CV 1/5; 3/25] END C=0.1, gamma=0.01, kernel=rbf;, score=(train=0.652, test=0.650) total time=   0.0s\n",
      "[CV 2/5; 3/25] START C=0.1, gamma=0.01, kernel=rbf..............................\n",
      "[CV 2/5; 3/25] END C=0.1, gamma=0.01, kernel=rbf;, score=(train=0.652, test=0.650) total time=   0.0s\n",
      "[CV 3/5; 3/25] START C=0.1, gamma=0.01, kernel=rbf..............................\n",
      "[CV 3/5; 3/25] END C=0.1, gamma=0.01, kernel=rbf;, score=(train=0.652, test=0.650) total time=   0.0s\n",
      "[CV 4/5; 3/25] START C=0.1, gamma=0.01, kernel=rbf..............................\n",
      "[CV 4/5; 3/25] END C=0.1, gamma=0.01, kernel=rbf;, score=(train=0.652, test=0.650) total time=   0.0s\n",
      "[CV 5/5; 3/25] START C=0.1, gamma=0.01, kernel=rbf..............................\n",
      "[CV 5/5; 3/25] END C=0.1, gamma=0.01, kernel=rbf;, score=(train=0.650, test=0.656) total time=   0.0s\n",
      "[CV 1/5; 4/25] START C=0.1, gamma=0.001, kernel=rbf.............................\n",
      "[CV 1/5; 4/25] END C=0.1, gamma=0.001, kernel=rbf;, score=(train=0.652, test=0.650) total time=   0.0s\n",
      "[CV 2/5; 4/25] START C=0.1, gamma=0.001, kernel=rbf.............................\n",
      "[CV 2/5; 4/25] END C=0.1, gamma=0.001, kernel=rbf;, score=(train=0.652, test=0.650) total time=   0.0s\n",
      "[CV 3/5; 4/25] START C=0.1, gamma=0.001, kernel=rbf.............................\n",
      "[CV 3/5; 4/25] END C=0.1, gamma=0.001, kernel=rbf;, score=(train=0.652, test=0.650) total time=   0.0s\n",
      "[CV 4/5; 4/25] START C=0.1, gamma=0.001, kernel=rbf.............................\n",
      "[CV 4/5; 4/25] END C=0.1, gamma=0.001, kernel=rbf;, score=(train=0.652, test=0.650) total time=   0.0s\n",
      "[CV 5/5; 4/25] START C=0.1, gamma=0.001, kernel=rbf.............................\n",
      "[CV 5/5; 4/25] END C=0.1, gamma=0.001, kernel=rbf;, score=(train=0.650, test=0.656) total time=   0.0s\n",
      "[CV 1/5; 5/25] START C=0.1, gamma=0.0001, kernel=rbf............................\n",
      "[CV 1/5; 5/25] END C=0.1, gamma=0.0001, kernel=rbf;, score=(train=0.652, test=0.650) total time=   0.0s\n",
      "[CV 2/5; 5/25] START C=0.1, gamma=0.0001, kernel=rbf............................\n",
      "[CV 2/5; 5/25] END C=0.1, gamma=0.0001, kernel=rbf;, score=(train=0.652, test=0.650) total time=   0.0s\n",
      "[CV 3/5; 5/25] START C=0.1, gamma=0.0001, kernel=rbf............................\n",
      "[CV 3/5; 5/25] END C=0.1, gamma=0.0001, kernel=rbf;, score=(train=0.652, test=0.650) total time=   0.0s\n",
      "[CV 4/5; 5/25] START C=0.1, gamma=0.0001, kernel=rbf............................\n",
      "[CV 4/5; 5/25] END C=0.1, gamma=0.0001, kernel=rbf;, score=(train=0.652, test=0.650) total time=   0.0s\n",
      "[CV 5/5; 5/25] START C=0.1, gamma=0.0001, kernel=rbf............................\n",
      "[CV 5/5; 5/25] END C=0.1, gamma=0.0001, kernel=rbf;, score=(train=0.650, test=0.656) total time=   0.0s\n",
      "[CV 1/5; 6/25] START C=1, gamma=1, kernel=rbf...................................\n",
      "[CV 1/5; 6/25] END C=1, gamma=1, kernel=rbf;, score=(train=0.963, test=0.675) total time=   0.0s\n",
      "[CV 2/5; 6/25] START C=1, gamma=1, kernel=rbf...................................\n",
      "[CV 2/5; 6/25] END C=1, gamma=1, kernel=rbf;, score=(train=0.961, test=0.707) total time=   0.0s\n",
      "[CV 3/5; 6/25] START C=1, gamma=1, kernel=rbf...................................\n",
      "[CV 3/5; 6/25] END C=1, gamma=1, kernel=rbf;, score=(train=0.974, test=0.740) total time=   0.0s\n",
      "[CV 4/5; 6/25] START C=1, gamma=1, kernel=rbf...................................\n",
      "[CV 4/5; 6/25] END C=1, gamma=1, kernel=rbf;, score=(train=0.971, test=0.715) total time=   0.0s\n",
      "[CV 5/5; 6/25] START C=1, gamma=1, kernel=rbf...................................\n",
      "[CV 5/5; 6/25] END C=1, gamma=1, kernel=rbf;, score=(train=0.963, test=0.713) total time=   0.0s\n",
      "[CV 1/5; 7/25] START C=1, gamma=0.1, kernel=rbf.................................\n",
      "[CV 1/5; 7/25] END C=1, gamma=0.1, kernel=rbf;, score=(train=0.817, test=0.732) total time=   0.0s\n",
      "[CV 2/5; 7/25] START C=1, gamma=0.1, kernel=rbf.................................\n",
      "[CV 2/5; 7/25] END C=1, gamma=0.1, kernel=rbf;, score=(train=0.829, test=0.740) total time=   0.0s\n",
      "[CV 3/5; 7/25] START C=1, gamma=0.1, kernel=rbf.................................\n",
      "[CV 3/5; 7/25] END C=1, gamma=0.1, kernel=rbf;, score=(train=0.821, test=0.764) total time=   0.0s\n",
      "[CV 4/5; 7/25] START C=1, gamma=0.1, kernel=rbf.................................\n",
      "[CV 4/5; 7/25] END C=1, gamma=0.1, kernel=rbf;, score=(train=0.809, test=0.772) total time=   0.0s\n",
      "[CV 5/5; 7/25] START C=1, gamma=0.1, kernel=rbf.................................\n",
      "[CV 5/5; 7/25] END C=1, gamma=0.1, kernel=rbf;, score=(train=0.839, test=0.738) total time=   0.0s\n",
      "[CV 1/5; 8/25] START C=1, gamma=0.01, kernel=rbf................................\n",
      "[CV 1/5; 8/25] END C=1, gamma=0.01, kernel=rbf;, score=(train=0.782, test=0.748) total time=   0.0s\n",
      "[CV 2/5; 8/25] START C=1, gamma=0.01, kernel=rbf................................\n",
      "[CV 2/5; 8/25] END C=1, gamma=0.01, kernel=rbf;, score=(train=0.776, test=0.764) total time=   0.0s\n",
      "[CV 3/5; 8/25] START C=1, gamma=0.01, kernel=rbf................................\n",
      "[CV 3/5; 8/25] END C=1, gamma=0.01, kernel=rbf;, score=(train=0.766, test=0.805) total time=   0.0s\n",
      "[CV 4/5; 8/25] START C=1, gamma=0.01, kernel=rbf................................\n",
      "[CV 4/5; 8/25] END C=1, gamma=0.01, kernel=rbf;, score=(train=0.776, test=0.772) total time=   0.0s\n",
      "[CV 5/5; 8/25] START C=1, gamma=0.01, kernel=rbf................................\n",
      "[CV 5/5; 8/25] END C=1, gamma=0.01, kernel=rbf;, score=(train=0.787, test=0.754) total time=   0.0s\n",
      "[CV 1/5; 9/25] START C=1, gamma=0.001, kernel=rbf...............................\n",
      "[CV 1/5; 9/25] END C=1, gamma=0.001, kernel=rbf;, score=(train=0.652, test=0.650) total time=   0.0s\n",
      "[CV 2/5; 9/25] START C=1, gamma=0.001, kernel=rbf...............................\n",
      "[CV 2/5; 9/25] END C=1, gamma=0.001, kernel=rbf;, score=(train=0.652, test=0.650) total time=   0.0s\n",
      "[CV 3/5; 9/25] START C=1, gamma=0.001, kernel=rbf...............................\n",
      "[CV 3/5; 9/25] END C=1, gamma=0.001, kernel=rbf;, score=(train=0.652, test=0.650) total time=   0.0s\n",
      "[CV 4/5; 9/25] START C=1, gamma=0.001, kernel=rbf...............................\n",
      "[CV 4/5; 9/25] END C=1, gamma=0.001, kernel=rbf;, score=(train=0.652, test=0.650) total time=   0.0s\n",
      "[CV 5/5; 9/25] START C=1, gamma=0.001, kernel=rbf...............................\n",
      "[CV 5/5; 9/25] END C=1, gamma=0.001, kernel=rbf;, score=(train=0.648, test=0.664) total time=   0.0s\n",
      "[CV 1/5; 10/25] START C=1, gamma=0.0001, kernel=rbf.............................\n",
      "[CV 1/5; 10/25] END C=1, gamma=0.0001, kernel=rbf;, score=(train=0.652, test=0.650) total time=   0.0s\n",
      "[CV 2/5; 10/25] START C=1, gamma=0.0001, kernel=rbf.............................\n",
      "[CV 2/5; 10/25] END C=1, gamma=0.0001, kernel=rbf;, score=(train=0.652, test=0.650) total time=   0.0s\n",
      "[CV 3/5; 10/25] START C=1, gamma=0.0001, kernel=rbf.............................\n"
     ]
    },
    {
     "name": "stdout",
     "output_type": "stream",
     "text": [
      "[CV 3/5; 10/25] END C=1, gamma=0.0001, kernel=rbf;, score=(train=0.652, test=0.650) total time=   0.0s\n",
      "[CV 4/5; 10/25] START C=1, gamma=0.0001, kernel=rbf.............................\n",
      "[CV 4/5; 10/25] END C=1, gamma=0.0001, kernel=rbf;, score=(train=0.652, test=0.650) total time=   0.0s\n",
      "[CV 5/5; 10/25] START C=1, gamma=0.0001, kernel=rbf.............................\n",
      "[CV 5/5; 10/25] END C=1, gamma=0.0001, kernel=rbf;, score=(train=0.650, test=0.656) total time=   0.0s\n",
      "[CV 1/5; 11/25] START C=10, gamma=1, kernel=rbf.................................\n",
      "[CV 1/5; 11/25] END C=10, gamma=1, kernel=rbf;, score=(train=1.000, test=0.691) total time=   0.0s\n",
      "[CV 2/5; 11/25] START C=10, gamma=1, kernel=rbf.................................\n",
      "[CV 2/5; 11/25] END C=10, gamma=1, kernel=rbf;, score=(train=1.000, test=0.683) total time=   0.0s\n",
      "[CV 3/5; 11/25] START C=10, gamma=1, kernel=rbf.................................\n",
      "[CV 3/5; 11/25] END C=10, gamma=1, kernel=rbf;, score=(train=1.000, test=0.699) total time=   0.0s\n",
      "[CV 4/5; 11/25] START C=10, gamma=1, kernel=rbf.................................\n",
      "[CV 4/5; 11/25] END C=10, gamma=1, kernel=rbf;, score=(train=1.000, test=0.707) total time=   0.0s\n",
      "[CV 5/5; 11/25] START C=10, gamma=1, kernel=rbf.................................\n",
      "[CV 5/5; 11/25] END C=10, gamma=1, kernel=rbf;, score=(train=1.000, test=0.721) total time=   0.0s\n",
      "[CV 1/5; 12/25] START C=10, gamma=0.1, kernel=rbf...............................\n",
      "[CV 1/5; 12/25] END C=10, gamma=0.1, kernel=rbf;, score=(train=0.888, test=0.748) total time=   0.0s\n",
      "[CV 2/5; 12/25] START C=10, gamma=0.1, kernel=rbf...............................\n",
      "[CV 2/5; 12/25] END C=10, gamma=0.1, kernel=rbf;, score=(train=0.882, test=0.724) total time=   0.0s\n",
      "[CV 3/5; 12/25] START C=10, gamma=0.1, kernel=rbf...............................\n",
      "[CV 3/5; 12/25] END C=10, gamma=0.1, kernel=rbf;, score=(train=0.876, test=0.756) total time=   0.0s\n",
      "[CV 4/5; 12/25] START C=10, gamma=0.1, kernel=rbf...............................\n",
      "[CV 4/5; 12/25] END C=10, gamma=0.1, kernel=rbf;, score=(train=0.870, test=0.740) total time=   0.0s\n",
      "[CV 5/5; 12/25] START C=10, gamma=0.1, kernel=rbf...............................\n",
      "[CV 5/5; 12/25] END C=10, gamma=0.1, kernel=rbf;, score=(train=0.902, test=0.738) total time=   0.0s\n",
      "[CV 1/5; 13/25] START C=10, gamma=0.01, kernel=rbf..............................\n",
      "[CV 1/5; 13/25] END C=10, gamma=0.01, kernel=rbf;, score=(train=0.800, test=0.764) total time=   0.0s\n",
      "[CV 2/5; 13/25] START C=10, gamma=0.01, kernel=rbf..............................\n",
      "[CV 2/5; 13/25] END C=10, gamma=0.01, kernel=rbf;, score=(train=0.792, test=0.772) total time=   0.0s\n",
      "[CV 3/5; 13/25] START C=10, gamma=0.01, kernel=rbf..............................\n",
      "[CV 3/5; 13/25] END C=10, gamma=0.01, kernel=rbf;, score=(train=0.772, test=0.805) total time=   0.0s\n",
      "[CV 4/5; 13/25] START C=10, gamma=0.01, kernel=rbf..............................\n",
      "[CV 4/5; 13/25] END C=10, gamma=0.01, kernel=rbf;, score=(train=0.788, test=0.797) total time=   0.0s\n",
      "[CV 5/5; 13/25] START C=10, gamma=0.01, kernel=rbf..............................\n",
      "[CV 5/5; 13/25] END C=10, gamma=0.01, kernel=rbf;, score=(train=0.813, test=0.754) total time=   0.0s\n",
      "[CV 1/5; 14/25] START C=10, gamma=0.001, kernel=rbf.............................\n",
      "[CV 1/5; 14/25] END C=10, gamma=0.001, kernel=rbf;, score=(train=0.776, test=0.748) total time=   0.0s\n",
      "[CV 2/5; 14/25] START C=10, gamma=0.001, kernel=rbf.............................\n",
      "[CV 2/5; 14/25] END C=10, gamma=0.001, kernel=rbf;, score=(train=0.778, test=0.748) total time=   0.0s\n",
      "[CV 3/5; 14/25] START C=10, gamma=0.001, kernel=rbf.............................\n",
      "[CV 3/5; 14/25] END C=10, gamma=0.001, kernel=rbf;, score=(train=0.766, test=0.797) total time=   0.0s\n",
      "[CV 4/5; 14/25] START C=10, gamma=0.001, kernel=rbf.............................\n",
      "[CV 4/5; 14/25] END C=10, gamma=0.001, kernel=rbf;, score=(train=0.764, test=0.780) total time=   0.0s\n",
      "[CV 5/5; 14/25] START C=10, gamma=0.001, kernel=rbf.............................\n",
      "[CV 5/5; 14/25] END C=10, gamma=0.001, kernel=rbf;, score=(train=0.783, test=0.762) total time=   0.0s\n",
      "[CV 1/5; 15/25] START C=10, gamma=0.0001, kernel=rbf............................\n",
      "[CV 1/5; 15/25] END C=10, gamma=0.0001, kernel=rbf;, score=(train=0.652, test=0.650) total time=   0.0s\n",
      "[CV 2/5; 15/25] START C=10, gamma=0.0001, kernel=rbf............................\n",
      "[CV 2/5; 15/25] END C=10, gamma=0.0001, kernel=rbf;, score=(train=0.652, test=0.650) total time=   0.0s\n",
      "[CV 3/5; 15/25] START C=10, gamma=0.0001, kernel=rbf............................\n",
      "[CV 3/5; 15/25] END C=10, gamma=0.0001, kernel=rbf;, score=(train=0.652, test=0.650) total time=   0.0s\n",
      "[CV 4/5; 15/25] START C=10, gamma=0.0001, kernel=rbf............................\n",
      "[CV 4/5; 15/25] END C=10, gamma=0.0001, kernel=rbf;, score=(train=0.652, test=0.650) total time=   0.0s\n",
      "[CV 5/5; 15/25] START C=10, gamma=0.0001, kernel=rbf............................\n",
      "[CV 5/5; 15/25] END C=10, gamma=0.0001, kernel=rbf;, score=(train=0.648, test=0.664) total time=   0.0s\n",
      "[CV 1/5; 16/25] START C=100, gamma=1, kernel=rbf................................\n",
      "[CV 1/5; 16/25] END C=100, gamma=1, kernel=rbf;, score=(train=1.000, test=0.691) total time=   0.0s\n",
      "[CV 2/5; 16/25] START C=100, gamma=1, kernel=rbf................................\n",
      "[CV 2/5; 16/25] END C=100, gamma=1, kernel=rbf;, score=(train=1.000, test=0.683) total time=   0.0s\n",
      "[CV 3/5; 16/25] START C=100, gamma=1, kernel=rbf................................\n",
      "[CV 3/5; 16/25] END C=100, gamma=1, kernel=rbf;, score=(train=1.000, test=0.699) total time=   0.0s\n",
      "[CV 4/5; 16/25] START C=100, gamma=1, kernel=rbf................................\n",
      "[CV 4/5; 16/25] END C=100, gamma=1, kernel=rbf;, score=(train=1.000, test=0.707) total time=   0.0s\n",
      "[CV 5/5; 16/25] START C=100, gamma=1, kernel=rbf................................\n",
      "[CV 5/5; 16/25] END C=100, gamma=1, kernel=rbf;, score=(train=1.000, test=0.721) total time=   0.0s\n",
      "[CV 1/5; 17/25] START C=100, gamma=0.1, kernel=rbf..............................\n",
      "[CV 1/5; 17/25] END C=100, gamma=0.1, kernel=rbf;, score=(train=0.955, test=0.683) total time=   0.0s\n",
      "[CV 2/5; 17/25] START C=100, gamma=0.1, kernel=rbf..............................\n",
      "[CV 2/5; 17/25] END C=100, gamma=0.1, kernel=rbf;, score=(train=0.945, test=0.699) total time=   0.0s\n",
      "[CV 3/5; 17/25] START C=100, gamma=0.1, kernel=rbf..............................\n",
      "[CV 3/5; 17/25] END C=100, gamma=0.1, kernel=rbf;, score=(train=0.947, test=0.699) total time=   0.0s\n",
      "[CV 4/5; 17/25] START C=100, gamma=0.1, kernel=rbf..............................\n",
      "[CV 4/5; 17/25] END C=100, gamma=0.1, kernel=rbf;, score=(train=0.951, test=0.715) total time=   0.0s\n",
      "[CV 5/5; 17/25] START C=100, gamma=0.1, kernel=rbf..............................\n",
      "[CV 5/5; 17/25] END C=100, gamma=0.1, kernel=rbf;, score=(train=0.957, test=0.713) total time=   0.0s\n",
      "[CV 1/5; 18/25] START C=100, gamma=0.01, kernel=rbf.............................\n",
      "[CV 1/5; 18/25] END C=100, gamma=0.01, kernel=rbf;, score=(train=0.815, test=0.732) total time=   0.0s\n",
      "[CV 2/5; 18/25] START C=100, gamma=0.01, kernel=rbf.............................\n",
      "[CV 2/5; 18/25] END C=100, gamma=0.01, kernel=rbf;, score=(train=0.831, test=0.764) total time=   0.0s\n",
      "[CV 3/5; 18/25] START C=100, gamma=0.01, kernel=rbf.............................\n",
      "[CV 3/5; 18/25] END C=100, gamma=0.01, kernel=rbf;, score=(train=0.819, test=0.780) total time=   0.0s\n",
      "[CV 4/5; 18/25] START C=100, gamma=0.01, kernel=rbf.............................\n",
      "[CV 4/5; 18/25] END C=100, gamma=0.01, kernel=rbf;, score=(train=0.807, test=0.789) total time=   0.0s\n",
      "[CV 5/5; 18/25] START C=100, gamma=0.01, kernel=rbf.............................\n",
      "[CV 5/5; 18/25] END C=100, gamma=0.01, kernel=rbf;, score=(train=0.827, test=0.738) total time=   0.0s\n",
      "[CV 1/5; 19/25] START C=100, gamma=0.001, kernel=rbf............................\n",
      "[CV 1/5; 19/25] END C=100, gamma=0.001, kernel=rbf;, score=(train=0.784, test=0.756) total time=   0.0s\n",
      "[CV 2/5; 19/25] START C=100, gamma=0.001, kernel=rbf............................\n",
      "[CV 2/5; 19/25] END C=100, gamma=0.001, kernel=rbf;, score=(train=0.780, test=0.756) total time=   0.0s\n",
      "[CV 3/5; 19/25] START C=100, gamma=0.001, kernel=rbf............................\n",
      "[CV 3/5; 19/25] END C=100, gamma=0.001, kernel=rbf;, score=(train=0.776, test=0.805) total time=   0.0s\n",
      "[CV 4/5; 19/25] START C=100, gamma=0.001, kernel=rbf............................\n",
      "[CV 4/5; 19/25] END C=100, gamma=0.001, kernel=rbf;, score=(train=0.784, test=0.789) total time=   0.0s\n",
      "[CV 5/5; 19/25] START C=100, gamma=0.001, kernel=rbf............................\n",
      "[CV 5/5; 19/25] END C=100, gamma=0.001, kernel=rbf;, score=(train=0.791, test=0.762) total time=   0.0s\n",
      "[CV 1/5; 20/25] START C=100, gamma=0.0001, kernel=rbf...........................\n"
     ]
    },
    {
     "name": "stdout",
     "output_type": "stream",
     "text": [
      "[CV 1/5; 20/25] END C=100, gamma=0.0001, kernel=rbf;, score=(train=0.772, test=0.748) total time=   0.0s\n",
      "[CV 2/5; 20/25] START C=100, gamma=0.0001, kernel=rbf...........................\n",
      "[CV 2/5; 20/25] END C=100, gamma=0.0001, kernel=rbf;, score=(train=0.778, test=0.748) total time=   0.0s\n",
      "[CV 3/5; 20/25] START C=100, gamma=0.0001, kernel=rbf...........................\n",
      "[CV 3/5; 20/25] END C=100, gamma=0.0001, kernel=rbf;, score=(train=0.766, test=0.797) total time=   0.0s\n",
      "[CV 4/5; 20/25] START C=100, gamma=0.0001, kernel=rbf...........................\n",
      "[CV 4/5; 20/25] END C=100, gamma=0.0001, kernel=rbf;, score=(train=0.764, test=0.780) total time=   0.0s\n",
      "[CV 5/5; 20/25] START C=100, gamma=0.0001, kernel=rbf...........................\n",
      "[CV 5/5; 20/25] END C=100, gamma=0.0001, kernel=rbf;, score=(train=0.776, test=0.762) total time=   0.0s\n",
      "[CV 1/5; 21/25] START C=1000, gamma=1, kernel=rbf...............................\n",
      "[CV 1/5; 21/25] END C=1000, gamma=1, kernel=rbf;, score=(train=1.000, test=0.691) total time=   0.0s\n",
      "[CV 2/5; 21/25] START C=1000, gamma=1, kernel=rbf...............................\n",
      "[CV 2/5; 21/25] END C=1000, gamma=1, kernel=rbf;, score=(train=1.000, test=0.683) total time=   0.0s\n",
      "[CV 3/5; 21/25] START C=1000, gamma=1, kernel=rbf...............................\n",
      "[CV 3/5; 21/25] END C=1000, gamma=1, kernel=rbf;, score=(train=1.000, test=0.699) total time=   0.0s\n",
      "[CV 4/5; 21/25] START C=1000, gamma=1, kernel=rbf...............................\n",
      "[CV 4/5; 21/25] END C=1000, gamma=1, kernel=rbf;, score=(train=1.000, test=0.707) total time=   0.0s\n",
      "[CV 5/5; 21/25] START C=1000, gamma=1, kernel=rbf...............................\n",
      "[CV 5/5; 21/25] END C=1000, gamma=1, kernel=rbf;, score=(train=1.000, test=0.721) total time=   0.0s\n",
      "[CV 1/5; 22/25] START C=1000, gamma=0.1, kernel=rbf.............................\n",
      "[CV 1/5; 22/25] END C=1000, gamma=0.1, kernel=rbf;, score=(train=0.996, test=0.667) total time=   0.0s\n",
      "[CV 2/5; 22/25] START C=1000, gamma=0.1, kernel=rbf.............................\n",
      "[CV 2/5; 22/25] END C=1000, gamma=0.1, kernel=rbf;, score=(train=0.994, test=0.707) total time=   0.0s\n",
      "[CV 3/5; 22/25] START C=1000, gamma=0.1, kernel=rbf.............................\n",
      "[CV 3/5; 22/25] END C=1000, gamma=0.1, kernel=rbf;, score=(train=0.998, test=0.683) total time=   0.0s\n",
      "[CV 4/5; 22/25] START C=1000, gamma=0.1, kernel=rbf.............................\n",
      "[CV 4/5; 22/25] END C=1000, gamma=0.1, kernel=rbf;, score=(train=0.992, test=0.675) total time=   0.0s\n",
      "[CV 5/5; 22/25] START C=1000, gamma=0.1, kernel=rbf.............................\n",
      "[CV 5/5; 22/25] END C=1000, gamma=0.1, kernel=rbf;, score=(train=0.994, test=0.680) total time=   0.0s\n",
      "[CV 1/5; 23/25] START C=1000, gamma=0.01, kernel=rbf............................\n",
      "[CV 1/5; 23/25] END C=1000, gamma=0.01, kernel=rbf;, score=(train=0.827, test=0.715) total time=   0.0s\n",
      "[CV 2/5; 23/25] START C=1000, gamma=0.01, kernel=rbf............................\n",
      "[CV 2/5; 23/25] END C=1000, gamma=0.01, kernel=rbf;, score=(train=0.837, test=0.748) total time=   0.0s\n",
      "[CV 3/5; 23/25] START C=1000, gamma=0.01, kernel=rbf............................\n",
      "[CV 3/5; 23/25] END C=1000, gamma=0.01, kernel=rbf;, score=(train=0.833, test=0.772) total time=   0.0s\n",
      "[CV 4/5; 23/25] START C=1000, gamma=0.01, kernel=rbf............................\n",
      "[CV 4/5; 23/25] END C=1000, gamma=0.01, kernel=rbf;, score=(train=0.833, test=0.756) total time=   0.0s\n",
      "[CV 5/5; 23/25] START C=1000, gamma=0.01, kernel=rbf............................\n",
      "[CV 5/5; 23/25] END C=1000, gamma=0.01, kernel=rbf;, score=(train=0.852, test=0.721) total time=   0.0s\n",
      "[CV 1/5; 24/25] START C=1000, gamma=0.001, kernel=rbf...........................\n",
      "[CV 1/5; 24/25] END C=1000, gamma=0.001, kernel=rbf;, score=(train=0.800, test=0.756) total time=   0.0s\n",
      "[CV 2/5; 24/25] START C=1000, gamma=0.001, kernel=rbf...........................\n",
      "[CV 2/5; 24/25] END C=1000, gamma=0.001, kernel=rbf;, score=(train=0.784, test=0.772) total time=   0.0s\n",
      "[CV 3/5; 24/25] START C=1000, gamma=0.001, kernel=rbf...........................\n",
      "[CV 3/5; 24/25] END C=1000, gamma=0.001, kernel=rbf;, score=(train=0.776, test=0.805) total time=   0.0s\n",
      "[CV 4/5; 24/25] START C=1000, gamma=0.001, kernel=rbf...........................\n",
      "[CV 4/5; 24/25] END C=1000, gamma=0.001, kernel=rbf;, score=(train=0.788, test=0.797) total time=   0.0s\n",
      "[CV 5/5; 24/25] START C=1000, gamma=0.001, kernel=rbf...........................\n",
      "[CV 5/5; 24/25] END C=1000, gamma=0.001, kernel=rbf;, score=(train=0.803, test=0.754) total time=   0.0s\n",
      "[CV 1/5; 25/25] START C=1000, gamma=0.0001, kernel=rbf..........................\n",
      "[CV 1/5; 25/25] END C=1000, gamma=0.0001, kernel=rbf;, score=(train=0.778, test=0.756) total time=   0.0s\n",
      "[CV 2/5; 25/25] START C=1000, gamma=0.0001, kernel=rbf..........................\n",
      "[CV 2/5; 25/25] END C=1000, gamma=0.0001, kernel=rbf;, score=(train=0.782, test=0.756) total time=   0.0s\n",
      "[CV 3/5; 25/25] START C=1000, gamma=0.0001, kernel=rbf..........................\n",
      "[CV 3/5; 25/25] END C=1000, gamma=0.0001, kernel=rbf;, score=(train=0.778, test=0.789) total time=   0.0s\n",
      "[CV 4/5; 25/25] START C=1000, gamma=0.0001, kernel=rbf..........................\n",
      "[CV 4/5; 25/25] END C=1000, gamma=0.0001, kernel=rbf;, score=(train=0.774, test=0.780) total time=   0.0s\n",
      "[CV 5/5; 25/25] START C=1000, gamma=0.0001, kernel=rbf..........................\n",
      "[CV 5/5; 25/25] END C=1000, gamma=0.0001, kernel=rbf;, score=(train=0.776, test=0.770) total time=   0.0s\n"
     ]
    },
    {
     "data": {
      "text/html": [
       "<style>#sk-container-id-2 {color: black;}#sk-container-id-2 pre{padding: 0;}#sk-container-id-2 div.sk-toggleable {background-color: white;}#sk-container-id-2 label.sk-toggleable__label {cursor: pointer;display: block;width: 100%;margin-bottom: 0;padding: 0.3em;box-sizing: border-box;text-align: center;}#sk-container-id-2 label.sk-toggleable__label-arrow:before {content: \"▸\";float: left;margin-right: 0.25em;color: #696969;}#sk-container-id-2 label.sk-toggleable__label-arrow:hover:before {color: black;}#sk-container-id-2 div.sk-estimator:hover label.sk-toggleable__label-arrow:before {color: black;}#sk-container-id-2 div.sk-toggleable__content {max-height: 0;max-width: 0;overflow: hidden;text-align: left;background-color: #f0f8ff;}#sk-container-id-2 div.sk-toggleable__content pre {margin: 0.2em;color: black;border-radius: 0.25em;background-color: #f0f8ff;}#sk-container-id-2 input.sk-toggleable__control:checked~div.sk-toggleable__content {max-height: 200px;max-width: 100%;overflow: auto;}#sk-container-id-2 input.sk-toggleable__control:checked~label.sk-toggleable__label-arrow:before {content: \"▾\";}#sk-container-id-2 div.sk-estimator input.sk-toggleable__control:checked~label.sk-toggleable__label {background-color: #d4ebff;}#sk-container-id-2 div.sk-label input.sk-toggleable__control:checked~label.sk-toggleable__label {background-color: #d4ebff;}#sk-container-id-2 input.sk-hidden--visually {border: 0;clip: rect(1px 1px 1px 1px);clip: rect(1px, 1px, 1px, 1px);height: 1px;margin: -1px;overflow: hidden;padding: 0;position: absolute;width: 1px;}#sk-container-id-2 div.sk-estimator {font-family: monospace;background-color: #f0f8ff;border: 1px dotted black;border-radius: 0.25em;box-sizing: border-box;margin-bottom: 0.5em;}#sk-container-id-2 div.sk-estimator:hover {background-color: #d4ebff;}#sk-container-id-2 div.sk-parallel-item::after {content: \"\";width: 100%;border-bottom: 1px solid gray;flex-grow: 1;}#sk-container-id-2 div.sk-label:hover label.sk-toggleable__label {background-color: #d4ebff;}#sk-container-id-2 div.sk-serial::before {content: \"\";position: absolute;border-left: 1px solid gray;box-sizing: border-box;top: 0;bottom: 0;left: 50%;z-index: 0;}#sk-container-id-2 div.sk-serial {display: flex;flex-direction: column;align-items: center;background-color: white;padding-right: 0.2em;padding-left: 0.2em;position: relative;}#sk-container-id-2 div.sk-item {position: relative;z-index: 1;}#sk-container-id-2 div.sk-parallel {display: flex;align-items: stretch;justify-content: center;background-color: white;position: relative;}#sk-container-id-2 div.sk-item::before, #sk-container-id-2 div.sk-parallel-item::before {content: \"\";position: absolute;border-left: 1px solid gray;box-sizing: border-box;top: 0;bottom: 0;left: 50%;z-index: -1;}#sk-container-id-2 div.sk-parallel-item {display: flex;flex-direction: column;z-index: 1;position: relative;background-color: white;}#sk-container-id-2 div.sk-parallel-item:first-child::after {align-self: flex-end;width: 50%;}#sk-container-id-2 div.sk-parallel-item:last-child::after {align-self: flex-start;width: 50%;}#sk-container-id-2 div.sk-parallel-item:only-child::after {width: 0;}#sk-container-id-2 div.sk-dashed-wrapped {border: 1px dashed gray;margin: 0 0.4em 0.5em 0.4em;box-sizing: border-box;padding-bottom: 0.4em;background-color: white;}#sk-container-id-2 div.sk-label label {font-family: monospace;font-weight: bold;display: inline-block;line-height: 1.2em;}#sk-container-id-2 div.sk-label-container {text-align: center;}#sk-container-id-2 div.sk-container {/* jupyter's `normalize.less` sets `[hidden] { display: none; }` but bootstrap.min.css set `[hidden] { display: none !important; }` so we also need the `!important` here to be able to override the default hidden behavior on the sphinx rendered scikit-learn.org. See: https://github.com/scikit-learn/scikit-learn/issues/21755 */display: inline-block !important;position: relative;}#sk-container-id-2 div.sk-text-repr-fallback {display: none;}</style><div id=\"sk-container-id-2\" class=\"sk-top-container\"><div class=\"sk-text-repr-fallback\"><pre>GridSearchCV(estimator=SVC(kernel=&#x27;linear&#x27;),\n",
       "             param_grid={&#x27;C&#x27;: [0.1, 1, 10, 100, 1000],\n",
       "                         &#x27;gamma&#x27;: [1, 0.1, 0.01, 0.001, 0.0001],\n",
       "                         &#x27;kernel&#x27;: [&#x27;rbf&#x27;]},\n",
       "             return_train_score=True, scoring=&#x27;accuracy&#x27;, verbose=10)</pre><b>In a Jupyter environment, please rerun this cell to show the HTML representation or trust the notebook. <br />On GitHub, the HTML representation is unable to render, please try loading this page with nbviewer.org.</b></div><div class=\"sk-container\" hidden><div class=\"sk-item sk-dashed-wrapped\"><div class=\"sk-label-container\"><div class=\"sk-label sk-toggleable\"><input class=\"sk-toggleable__control sk-hidden--visually\" id=\"sk-estimator-id-2\" type=\"checkbox\" ><label for=\"sk-estimator-id-2\" class=\"sk-toggleable__label sk-toggleable__label-arrow\">GridSearchCV</label><div class=\"sk-toggleable__content\"><pre>GridSearchCV(estimator=SVC(kernel=&#x27;linear&#x27;),\n",
       "             param_grid={&#x27;C&#x27;: [0.1, 1, 10, 100, 1000],\n",
       "                         &#x27;gamma&#x27;: [1, 0.1, 0.01, 0.001, 0.0001],\n",
       "                         &#x27;kernel&#x27;: [&#x27;rbf&#x27;]},\n",
       "             return_train_score=True, scoring=&#x27;accuracy&#x27;, verbose=10)</pre></div></div></div><div class=\"sk-parallel\"><div class=\"sk-parallel-item\"><div class=\"sk-item\"><div class=\"sk-label-container\"><div class=\"sk-label sk-toggleable\"><input class=\"sk-toggleable__control sk-hidden--visually\" id=\"sk-estimator-id-3\" type=\"checkbox\" ><label for=\"sk-estimator-id-3\" class=\"sk-toggleable__label sk-toggleable__label-arrow\">estimator: SVC</label><div class=\"sk-toggleable__content\"><pre>SVC(kernel=&#x27;linear&#x27;)</pre></div></div></div><div class=\"sk-serial\"><div class=\"sk-item\"><div class=\"sk-estimator sk-toggleable\"><input class=\"sk-toggleable__control sk-hidden--visually\" id=\"sk-estimator-id-4\" type=\"checkbox\" ><label for=\"sk-estimator-id-4\" class=\"sk-toggleable__label sk-toggleable__label-arrow\">SVC</label><div class=\"sk-toggleable__content\"><pre>SVC(kernel=&#x27;linear&#x27;)</pre></div></div></div></div></div></div></div></div></div></div>"
      ],
      "text/plain": [
       "GridSearchCV(estimator=SVC(kernel='linear'),\n",
       "             param_grid={'C': [0.1, 1, 10, 100, 1000],\n",
       "                         'gamma': [1, 0.1, 0.01, 0.001, 0.0001],\n",
       "                         'kernel': ['rbf']},\n",
       "             return_train_score=True, scoring='accuracy', verbose=10)"
      ]
     },
     "execution_count": 39,
     "metadata": {},
     "output_type": "execute_result"
    }
   ],
   "source": [
    "# defining parameter range \n",
    "param_grid = {'C': [0.1, 1, 10, 100, 1000],  \n",
    "              'gamma': [1, 0.1, 0.01, 0.001, 0.0001], \n",
    "              'kernel': ['rbf']}  \n",
    "\n",
    "grid = GridSearchCV(classifier, param_grid, refit = True, \n",
    "                    return_train_score=True,\n",
    "                          scoring='accuracy', verbose=10)\n",
    "# fitting the model for grid search \n",
    "grid.fit(X_train, Y_train) "
   ]
  },
  {
   "cell_type": "code",
   "execution_count": 41,
   "metadata": {},
   "outputs": [
    {
     "data": {
      "text/plain": [
       "0.7922077922077922"
      ]
     },
     "execution_count": 41,
     "metadata": {},
     "output_type": "execute_result"
    }
   ],
   "source": [
    "new_model = grid.best_estimator_\n",
    "new_model.score(X_test, Y_test)"
   ]
  },
  {
   "cell_type": "code",
   "execution_count": 18,
   "metadata": {
    "colab": {
     "base_uri": "https://localhost:8080/"
    },
    "id": "KWd6HF0NbW3V",
    "outputId": "c52d201a-4ba2-4459-d55f-3405598a12e5"
   },
   "outputs": [
    {
     "name": "stdout",
     "output_type": "stream",
     "text": [
      "0 [ 0.63994726  0.09719231  0.14964075 -1.28821221 -0.69289057 -0.5575027\n",
      " -0.31371876 -0.36084741] 1\n",
      "1 [ 2.12477957 -0.56004775 -0.05715025  1.22091023 -0.69289057  1.80319526\n",
      " -1.04458748  0.74529338] 0\n",
      "0 [-0.25095213  0.84832379 -0.16054575  0.27998931 -0.69289057  0.0644016\n",
      " -0.65197205 -0.95646168] 0\n",
      "1 [ 0.04601433  1.94372388 -3.57259724 -1.28821221 -0.69289057 -0.4559673\n",
      " -0.78485727  0.23476686] 1\n",
      "0 [ 0.93691372 -0.21577915  0.35643175 -0.22183517  0.26222798 -1.03979583\n",
      " -0.01774713 -0.19067191] 0\n",
      "0 [-1.14185152 -0.62264204  0.35643175 -1.28821221 -0.69289057  0.47054319\n",
      " -0.82713894 -0.61611067] 0\n",
      "0 [-1.14185152 -0.62264204 -0.36733675 -1.28821221 -0.69289057 -1.2809424\n",
      " -0.41036256 -0.70119842] 0\n",
      "1 [ 2.12477957  0.19108374  1.90736425 -1.28821221 -0.69289057  0.8893767\n",
      " -0.85129988  1.51108316] 0\n",
      "0 [ 0.3429808  -0.15318486  0.25303625 -1.28821221 -0.69289057 -0.81134119\n",
      " -0.81807858 -0.27575966] 0\n",
      "0 [-1.14185152  0.31627232  0.97680475 -1.28821221 -0.69289057 -0.04982572\n",
      "  0.81882574 -0.10558415] 1\n",
      "0 [ 0.04601433  0.12848945  0.56322275 -1.28821221 -0.69289057  0.03901775\n",
      "  0.19366118 -0.53102292] 1\n",
      "1 [ 0.04601433  0.7857295   1.18359575 -1.28821221 -0.69289057 -0.10059342\n",
      "  0.20272153  2.36196069] 1\n",
      "1 [-1.14185152 -0.12188771 -3.57259724 -1.28821221 -0.69289057  0.22939662\n",
      "  1.38962817  0.91546889] 0\n",
      "0 [ 0.63994726 -0.93561349 -3.57259724 -1.28821221 -0.69289057 -0.27828036\n",
      "  0.08795702 -0.19067191] 0\n",
      "0 [ 0.04601433 -0.02799627 -0.05715025 -1.28821221 -0.69289057 -0.30366421\n",
      "  0.71614171  0.06459135] 0\n",
      "0 [-0.54791859 -0.05929342 -3.57259724 -1.28821221 -0.69289057 -1.57285666\n",
      "  1.08761631  3.29792597] 0\n",
      "0 [-0.84488505 -1.18599065 -0.05715025 -1.28821221 -0.69289057 -1.75054361\n",
      "  0.45943162 -0.53102292] 0\n",
      "0 [ 0.04601433  0.06589516  0.56322275 -0.3472913   0.83529911  0.00094198\n",
      " -0.08720986  0.06459135] 0\n",
      "0 [ 0.63994726 -0.40356202 -1.29789624 -0.03365099  0.4358859  -1.01441198\n",
      "  1.03023405  0.14967911] 0\n",
      "1 [-0.84488505  1.4742667   0.97680475  0.53090156 -0.69289057  0.38169971\n",
      "  1.30808497  1.59617091] 1\n",
      "0 [-1.14185152  0.31627232 -0.16054575  1.22091023 -0.69289057  0.29285624\n",
      " -0.83317917 -0.95646168] 1\n",
      "1 [-0.54791859  0.06589516 -1.09110524  0.71908574  0.73978725  1.28282636\n",
      "  0.14533928 -0.61611067] 0\n",
      "0 [-0.25095213  0.25367803 -0.26394125  0.53090156  0.30564246 -0.7098058\n",
      " -0.76371644 -0.44593516] 1\n",
      "1 [-0.25095213  1.53686099 -0.26394125  1.03272605  1.26076101  0.31824009\n",
      " -0.34996018 -0.27575966] 1\n",
      "0 [ 0.3429808   0.09719231  0.25303625 -1.28821221 -0.69289057  0.25478047\n",
      " -0.76069632  0.40494237] 1\n",
      "0 [-0.84488505 -0.8730192   0.04624525  0.65635768 -0.69289057 -0.20212881\n",
      " -0.47378505 -0.87137393] 0\n",
      "0 [-0.25095213 -1.87452785  0.66661825  0.4681735  -0.69289057  0.30554817\n",
      " -0.69123359  1.08564439] 0\n",
      "1 [ 1.53084665  1.09870096  0.87340925 -1.28821221 -0.69289057 -0.91287659\n",
      " -0.73049514  1.68125866] 1\n",
      "1 [-0.25095213  1.63075243  0.66661825  1.72273472  3.34465603  0.81322515\n",
      "  5.02887118 -0.70119842] 1\n",
      "0 [ 0.3429808  -1.34247638 -1.09110524 -1.28821221 -0.69289057  0.2167047\n",
      "  0.55003518 -0.70119842] 0\n",
      "0 [ 1.23388019 -0.65393918  0.35643175 -1.28821221 -0.69289057  0.85130092\n",
      " -0.85129988  0.74529338] 0\n",
      "1 [ 0.3429808   0.28497518  0.66661825 -1.28821221 -0.69289057  0.90206862\n",
      "  1.46211102  0.31985461] 1\n",
      "0 [-0.25095213 -1.18599065 -0.57412775  0.65635768 -0.53659845  0.29285624\n",
      " -0.41036256 -0.70119842] 0\n",
      "1 [ 2.12477957  0.69183807  1.28699125  0.7818138   0.57481223  0.58477051\n",
      " -0.65801229  1.51108316] 1\n",
      "0 [ 1.82781311 -0.30967058  0.04624525  0.40544544 -0.69289057 -0.57019463\n",
      " -0.9992857   0.57511787] 1\n",
      "1 [ 1.23388019  1.94372388 -0.26394125 -1.28821221 -0.69289057 -1.10325546\n",
      "  0.60439732 -0.10558415] 1\n",
      "0 [-0.54791859 -1.15469351 -3.57259724 -1.28821221 -0.69289057 -4.06047387\n",
      " -0.50700636 -1.04154944] 0\n",
      "0 [ 0.04601433 -0.34096773 -0.16054575 -1.28821221 -0.69289057 -0.01174995\n",
      " -0.00264654 -0.36084741] 0\n",
      "1 [ 1.82781311  1.25518668 -0.05715025  0.15453319  0.45325169 -0.82403312\n",
      " -0.44056374  1.17073215] 1\n",
      "1 [-0.25095213  1.16129525  0.04624525  0.59362962  2.15509929  0.44515934\n",
      " -0.38620161  0.14967911] 1\n",
      "0 [ 0.3429808   0.47275805  0.66661825 -1.28821221 -0.69289057 -4.06047387\n",
      "  0.50775352  3.04266271] 0\n",
      "0 [0.63994726 0.06589516 0.14964075 1.53455054 1.30417549 0.20401277\n",
      " 0.78862456 0.06459135] 0\n",
      "0 [-0.54791859 -0.96691063 -0.05715025  1.34636635 -0.69289057  0.7878413\n",
      "  0.09399726 -0.53102292] 1\n",
      "0 [-0.84488505 -0.74783062  0.04624525  1.22091023 -0.69289057  0.77514938\n",
      " -0.76673656 -0.27575966] 0\n",
      "0 [-0.84488505 -1.5615564  -1.09110524 -0.15910711 -0.03299048 -1.47132127\n",
      " -0.4496241  -0.95646168] 0\n",
      "0 [-0.84488505 -0.15318486  0.04624525  0.4681735  -0.69289057 -0.58288655\n",
      " -0.80901822 -1.04154944] 0\n",
      "0 [ 0.3429808   0.34756947  0.56322275 -1.28821221 -0.69289057 -0.6590381\n",
      " -0.86338036  3.04266271] 0\n",
      "1 [ 1.53084665  1.34907812  0.45982725 -1.28821221 -0.69289057  0.10247738\n",
      " -0.97814487  1.00055664] 1\n",
      "0 [ 0.3429808  -0.5287506   0.25303625 -1.28821221 -0.69289057 -0.40519961\n",
      " -0.96304428  1.2558199 ] 0\n",
      "0 [ 0.63994726 -0.12188771  1.39038675 -1.28821221 -0.69289057 -0.41789153\n",
      " -0.9509638  -0.27575966] 0\n",
      "1 [ 0.04601433  1.03610667 -0.36733675  0.65635768  1.77305187  0.10247738\n",
      " -0.70935431 -0.87137393] 0\n",
      "0 [ 1.53084665  0.41016376  0.25303625  0.7818138  -0.17191682 -0.77326542\n",
      " -0.03586784  4.06371575] 0\n",
      "1 [-0.25095213  0.06589516  1.59717775  0.90726993  1.39100445  3.21199889\n",
      "  1.232582   -0.95646168] 0\n",
      "0 [-0.84488505  1.1299981   0.14964075  0.02907707  0.76583594 -0.81134119\n",
      " -1.05364784 -0.78628618] 0\n",
      "0 [-0.54791859 -0.65393918 -0.78091875  0.4681735   0.2188135   0.7370736\n",
      "  0.07889667 -0.78628618] 0\n",
      "0 [-0.84488505 -1.02950492 -0.36733675  0.21726125 -0.31084315 -0.26558844\n",
      " -0.15063235 -0.87137393] 0\n",
      "0 [ 0.93691372  0.09719231  0.04624525  0.7818138   1.17393205 -0.82403312\n",
      " -0.93888333  0.31985461] 0\n",
      "1 [ 0.04601433  0.81702665  0.25303625  0.27998931  1.85119793  0.36900779\n",
      " -0.26237674 -0.27575966] 0\n",
      "1 [ 0.63994726  1.28648383 -0.36733675 -1.28821221 -0.69289057 -0.97633621\n",
      " -0.88754131  1.4259954 ] 1\n",
      "0 [ 1.53084665 -0.93561349 -0.05715025 -1.28821221 -0.69289057 -0.98902814\n",
      " -0.8210987   2.10669743] 0\n",
      "1 [ 1.82781311  0.25367803 -0.36733675  0.96999799 -0.69289057  1.16859904\n",
      " -0.0932501   0.40494237] 1\n",
      "0 [-0.54791859 -0.09059057  0.56322275 -1.28821221 -0.69289057  1.38436175\n",
      "  0.66781981 -1.04154944] 1\n",
      "0 [-1.14185152  0.12848945  1.39038675 -1.28821221 -0.69289057 -1.20479085\n",
      " -0.63385134 -1.04154944] 0\n",
      "1 [0.93691372 1.4742667  0.97680475 1.34636635 2.09431902 0.7878413\n",
      " 0.95171097 0.57511787] 1\n",
      "1 [-0.54791859  0.25367803 -3.57259724 -1.28821221 -0.69289057  0.82591707\n",
      " -0.50700636  0.66020563] 0\n",
      "0 [ 0.3429808   0.00330087  0.14964075  0.15453319  0.27959377 -0.73518964\n",
      " -0.68519336 -0.27575966] 0\n",
      "1 [0.93691372 0.91091809 0.45982725 0.53090156 0.40115431 0.40708356\n",
      " 0.66479969 1.76634642] 1\n",
      "0 [-1.14185152  0.5040552   0.04624525  1.09545411 -0.69289057  0.15324507\n",
      " -0.91170226 -0.95646168] 0\n",
      "0 [-1.14185152 -0.30967058 -0.2122435  -1.28821221 -0.69289057 -0.93826044\n",
      "  0.56815589 -0.19067191] 0\n",
      "1 [ 0.63994726  0.72313521  0.14964075  0.40544544  1.2868097   0.24208854\n",
      " -0.65499217  0.57511787] 0\n",
      "0 [-0.84488505  0.7857295  -0.67752325 -1.28821221 -0.69289057 -0.29097229\n",
      "  0.2782245  -0.36084741] 0\n",
      "1 [ 0.3429808   1.16129525  0.77001375  1.28363829  1.13051757  0.94014439\n",
      " -0.23217556 -0.36084741] 1\n",
      "0 [ 0.3429808  -0.184482    0.35643175 -1.28821221 -0.69289057 -0.10059342\n",
      " -0.38922173  0.91546889] 1\n",
      "0 [-1.14185152  0.56664949 -0.36733675 -0.22183517  1.13051757 -1.25555855\n",
      " -0.79995787 -1.04154944] 0\n",
      "0 [-1.14185152 -0.59134489  0.304734    0.15453319 -0.69289057 -4.06047387\n",
      "  0.30238545 -1.04154944] 0\n",
      "0 [-0.54791859 -0.90431634 -0.88431425 -1.28821221 -0.69289057 -0.24020459\n",
      " -0.9992857  -0.95646168] 0\n",
      "1 [0.93691372 1.88112959 0.77001375 0.02907707 0.97422544 0.49592704\n",
      " 0.34466711 1.51108316] 1\n",
      "0 [-0.54791859 -0.27837344  0.45982725  1.84819084  0.52271486  0.94014439\n",
      " -0.89660166 -0.78628618] 0\n",
      "0 [ 0.04601433  0.19108374  0.97680475 -0.59820354  0.6529583   0.31824009\n",
      "  0.38090854 -0.44593516] 0\n",
      "0 [-0.84488505  0.37886661  1.70057325  0.4681735   0.52271486  0.10247738\n",
      " -0.71841466  1.00055664] 1\n",
      "0 [-1.14185152 -0.24707629  0.35643175 -1.28821221 -0.69289057  0.165937\n",
      " -0.58552944 -0.87137393] 1\n",
      "0 [-1.14185152 -1.68674498  0.35643175 -1.28821221 -0.69289057  1.68896794\n",
      " -0.83921941  1.08564439] 0\n",
      "0 [-0.54791859 -0.37226487  1.18359575 -1.28821221 -0.69289057  1.3589779\n",
      "  1.12687785  1.76634642] 0\n",
      "1 [ 2.7187125   0.25367803 -3.57259724  0.59362962 -0.69289057  1.00360402\n",
      "  0.29332509  0.91546889] 1\n",
      "1 [ 1.23388019  2.38188392  0.25303625 -1.28821221 -0.69289057 -0.77326542\n",
      "  2.17183891  0.49003012] 1\n",
      "0 [ 0.04601433 -1.12339636 -0.57412775  0.09180513 -0.26742867 -0.53211885\n",
      " -0.50096612 -0.44593516] 0\n",
      "1 [-0.25095213  1.66204957 -0.57412775  0.09180513  0.99159124  0.1151693\n",
      "  0.36580794  0.23476686] 1\n",
      "0 [-0.54791859 -0.65393918 -0.26394125  0.15453319 -0.69289057 -0.29097229\n",
      " -0.31371876 -1.04154944] 0\n",
      "0 [ 0.63994726 -0.59134489  1.08020025  1.15818217 -0.69289057  0.47054319\n",
      "  0.61043756 -0.44593516] 0\n",
      "0 [ 1.53084665 -0.46615631 -0.88431425 -1.28821221 -0.69289057 -0.10059342\n",
      " -0.27747734  0.74529338] 0\n",
      "1 [ 0.04601433  1.56815814  0.14964075 -1.28821221 -0.69289057  1.47320522\n",
      "  0.02151441 -0.61611067] 1\n",
      "1 [ 1.82781311 -0.62264204  0.87340925  1.03272605 -0.69289057  1.72704372\n",
      "  2.00573238  0.40494237] 1\n",
      "0 [-1.14185152  0.1597866   0.87340925  0.40544544  0.34905694 -0.58288655\n",
      "  0.13023869 -1.04154944] 0\n",
      "0 [-1.14185152 -0.65393918  0.97680475  2.47547145  0.26222798  1.87934681\n",
      "  1.48023173 -0.19067191] 0\n",
      "0 [ 0.63994726 -0.77912776 -3.57259724 -1.28821221 -0.69289057 -1.05248776\n",
      " -0.85129988 -0.44593516] 0\n",
      "1 [ 0.04601433  1.09870096  0.304734   -1.28821221 -0.69289057  2.06972568\n",
      " -0.70633419 -0.10558415] 1\n",
      "0 [-0.25095213 -0.99820778  0.25303625 -0.28456324  0.04515558 -0.20212881\n",
      "  0.23896296  0.40494237] 0\n",
      "0 [-0.54791859  0.09719231 -0.05715025  0.4681735   1.08710309  0.1151693\n",
      "  1.21748141 -0.27575966] 1\n",
      "0 [-0.84488505 -3.78365371  0.25303625 -0.03365099 -0.49318397 -0.54481078\n",
      " -0.52210695 -1.04154944] 0\n",
      "0 [-0.84488505 -0.96691063 -0.05715025 -0.78638772 -0.69289057 -0.95095236\n",
      "  2.01177262  0.23476686] 0\n",
      "0 [ 0.3429808  -0.46615631  0.66661825  0.59362962 -0.69289057  0.95283632\n",
      " -0.56136849  0.40494237] 0\n",
      "0 [-0.84488505  0.22238089  0.66661825 -0.22183517  0.89607938 -0.57019463\n",
      " -1.07780879 -0.95646168] 0\n",
      "1 [-0.25095213  1.91242674  0.25303625 -1.28821221 -0.69289057 -0.18943689\n",
      " -0.38318149 -0.36084741] 1\n",
      "0 [-0.84488505 -0.68523633  0.14964075  0.59362962 -0.53659845  0.838609\n",
      " -0.18083354 -1.04154944] 0\n",
      "0 [ 0.04601433 -0.74783062 -0.47073225  0.15453319 -0.69289057 -0.48135115\n",
      " -0.08720986 -0.95646168] 0\n",
      "0 [ 0.3429808  -0.37226487 -0.36733675  1.28363829  0.427203    0.48323511\n",
      "  0.12721857 -0.70119842] 1\n",
      "0 [-1.14185152 -1.09209922 -0.05715025  0.71908574 -0.69289057  0.48323511\n",
      " -0.70633419 -0.70119842] 0\n",
      "0 [ 0.04601433  0.12848945  0.04624525 -0.15910711  0.36642273 -0.39250768\n",
      "  2.02989333  1.00055664] 1\n",
      "0 [-1.14185152 -0.05929342 -0.16054575  0.40544544 -0.69289057  0.86399285\n",
      " -0.6429117  -0.95646168] 0\n",
      "0 [-1.14185152 -0.49745345  0.77001375 -1.28821221 -0.69289057 -0.51942693\n",
      "  0.81278551  2.44704844] 1\n",
      "1 [-0.84488505  1.84983245 -3.57259724 -1.28821221 -0.69289057  1.43512945\n",
      " -0.57344897  0.66020563] 1\n",
      "0 [-0.54791859 -0.40356202 -0.36733675 -0.6609316   1.72095449 -0.84941697\n",
      "  1.23560212 -0.95646168] 0\n",
      "0 [-1.14185152 -1.4989621  -3.57259724 -1.28821221 -0.69289057 -1.3824778\n",
      " -0.39224185 -0.70119842] 0\n",
      "0 [-0.54791859  0.66054092  0.66661825 -0.15910711 -0.13718523 -0.92556851\n",
      "  0.87318788 -1.04154944] 0\n",
      "1 [ 1.53084665  1.97502103  0.8217115  -0.3472913  -0.69289057 -0.25289651\n",
      "  2.23828152  1.34090765] 1\n",
      "0 [ 1.23388019 -0.34096773  0.35643175 -1.28821221 -0.69289057 -0.53211885\n",
      " -0.70935431  2.10669743] 0\n",
      "0 [-0.84488505 -3.78365371 -1.09110524 -0.03365099 -0.69289057 -0.92556851\n",
      " -1.00230582 -0.95646168] 0\n",
      "1 [ 3.42980797e-01  7.23135213e-01  6.66618252e-01  3.42717375e-01\n",
      "  1.78173477e+00  9.41978774e-04 -6.00287912e-02  2.10669743e+00] 1\n",
      "0 [-0.25095213 -0.46615631  0.14964075 -1.28821221 -0.69289057 -0.78595734\n",
      " -0.79995787 -0.53102292] 0\n",
      "0 [-0.84488505 -1.15469351 -0.26394125  0.15453319  0.30564246  0.62284628\n",
      " -0.00264654 -0.44593516] 0\n",
      "0 [-0.25095213 -0.68523633 -0.78091875 -0.09637905  0.05383848 -0.81134119\n",
      " -0.96002416 -0.78628618] 0\n",
      "0 [ 0.3429808  -1.4989621  -0.47073225 -1.28821221 -0.69289057 -0.6590381\n",
      " -0.61573063 -0.53102292] 0\n",
      "1 [ 0.63994726  1.03610667  0.45982725  1.28363829  0.52271486  1.79050334\n",
      "  0.29936533 -0.53102292] 0\n",
      "1 [ 0.93691372  2.31928962  0.04624525  0.7818138   0.56612934 -0.87480081\n",
      " -0.93284309  1.85143417] 1\n",
      "1 [ 0.63994726  0.41016376  0.56322275  1.03272605  2.51978092  1.80319526\n",
      " -0.70633419  1.08564439] 1\n",
      "0 [-1.14185152  0.44146091 -0.05715025  1.34636635  1.47783341  1.30821021\n",
      " -0.32277912 -0.78628618] 1\n",
      "1 [-0.25095213  1.16129525 -0.26394125 -0.47274742  2.66739015 -0.10059342\n",
      " -0.53418742 -0.78628618] 0\n",
      "0 [ 1.82781311  0.37886661 -0.05715025 -1.28821221 -0.69289057 -0.63365425\n",
      " -0.68519336  0.23476686] 0\n",
      "0 [-0.84488505 -0.96691063 -0.36733675 -0.15910711 -0.18059971 -0.87480081\n",
      "  2.40438805 -0.70119842] 0\n",
      "0 [-0.25095213  0.1597866   0.97680475  1.28363829  1.34758997  0.92745247\n",
      "  0.70104112 -0.53102292] 0\n",
      "0 [ 0.04601433 -0.21577915 -0.2122435  -1.28821221 -0.69289057 -1.2809424\n",
      " -0.12043116  0.31985461] 0\n",
      "0 [-0.54791859 -0.84172205 -0.05715025 -0.15910711 -0.03299048 -0.76057349\n",
      "  0.26916414 -1.04154944] 0\n",
      "0 [-0.84488505 -1.37377352 -0.67752325  0.59362962 -0.2066484   0.165937\n",
      "  2.35304603 -0.78628618] 0\n",
      "1 [ 1.53084665  0.75443236  0.97680475  0.84454186  0.73978725 -0.21482074\n",
      "  0.90338907  1.68125866] 1\n",
      "0 [-0.84488505 -0.40356202 -0.47073225  1.5972786   0.8526649   0.44515934\n",
      " -0.17177318 -0.78628618] 0\n",
      "0 [-0.84488505 -0.37226487 -0.67752325  0.02907707  0.47930038 -0.86210889\n",
      "  1.09063642 -0.87137393] 0\n",
      "0 [-0.84488505  0.56664949 -1.19450074 -0.09637905  0.02778979 -0.41789153\n",
      "  0.55003518 -0.95646168] 0\n",
      "1 [1.23388019 2.35058677 0.35643175 0.53090156 1.73832029 0.69899783\n",
      " 0.40204937 2.02160968] 1\n",
      "0 [-0.84488505 -0.30967058  1.28699125 -1.28821221 -0.69289057  0.10247738\n",
      " -0.62479098  1.00055664] 0\n",
      "1 [ 0.93691372  0.91091809 -0.16054575  1.34636635  2.27665983  0.34362394\n",
      "  0.74332278  0.74529338] 0\n",
      "0 [ 2.7187125  -0.5287506   0.14964075 -1.28821221 -0.69289057 -0.10059342\n",
      " -0.02076725  0.40494237] 1\n",
      "1 [ 0.63994726  2.1628039   1.18359575 -1.28821221 -0.69289057  0.44515934\n",
      " -0.58552944  2.78739945] 1\n",
      "1 [-0.84488505  1.88112959  0.45982725  1.34636635  1.85119793  1.01629594\n",
      "  2.37418686 -0.95646168] 1\n",
      "1 [-1.14185152  1.44296956 -3.57259724 -1.28821221 -0.69289057  0.03901775\n",
      "  1.10875714 -0.27575966] 1\n",
      "0 [ 0.63994726 -0.71653347 -0.57412775  0.7818138   0.95685965  0.25478047\n",
      " -0.1264714   0.83038113] 0\n",
      "0 [ 0.04601433  0.03459802 -0.05715025 -1.28821221 -0.69289057  0.38169971\n",
      " -0.23519567 -0.36084741] 0\n",
      "0 [-0.54791859 -0.27837344  0.87340925  1.34636635  0.69637278  0.81322515\n",
      " -0.68217324 -0.44593516] 0\n",
      "0 [-0.84488505 -0.74783062 -0.05715025  0.02907707 -0.69289057 -0.6082704\n",
      "  1.88190752 -0.95646168] 0\n",
      "0 [-0.84488505  0.09719231 -0.47073225  0.71908574 -0.69289057  0.48323511\n",
      "  0.12721857 -1.04154944] 0\n",
      "0 [-0.54791859  0.7857295   0.04624525  1.09545411  2.43295196 -0.506735\n",
      " -0.40734244 -0.36084741] 1\n",
      "0 [-1.14185152 -0.84172205  0.04624525  0.40544544  0.30564246  1.4605133\n",
      " -0.37714125 -1.04154944] 0\n",
      "1 [-1.14185152  1.63075243  0.45982725  0.71908574  1.60807685  1.84127104\n",
      "  2.07519511  2.10669743] 0\n",
      "0 [-1.14185152 -0.21577915  0.56322275  0.84454186  1.78173477  1.54935677\n",
      " -0.92076261 -0.53102292] 0\n",
      "0 [-0.54791859  1.69334672  0.97680475 -1.28821221 -0.69289057 -1.15402315\n",
      " -0.44056374 -0.95646168] 0\n"
     ]
    }
   ],
   "source": [
    "for i in range (len(X_test_prediction)):\n",
    "  print(X_test_prediction[i], X_test[i], Y_test[i])"
   ]
  },
  {
   "cell_type": "code",
   "execution_count": 19,
   "metadata": {
    "colab": {
     "base_uri": "https://localhost:8080/"
    },
    "id": "g7mTQa7V2_-d",
    "outputId": "8259c501-7cd5-4b5e-de05-063d56bcf951"
   },
   "outputs": [
    {
     "name": "stdout",
     "output_type": "stream",
     "text": [
      "[[-0.84488505  1.31778097  0.14964075 -1.28821221 -0.69289057  0.8893767\n",
      "   2.26546259 -0.0204964 ]]\n",
      "[1]\n",
      "The patient is diabetic\n"
     ]
    }
   ],
   "source": [
    "Input_data = (1,163,72,0,0,39,1.222,33)\n",
    "\n",
    "Input_data_numpy =  np.asarray(Input_data)\n",
    "\n",
    "Input_data_reshaped = Input_data_numpy.reshape(1, -1)\n",
    "\n",
    "Input_std_data = scalar.transform(Input_data_reshaped)\n",
    "print(Input_std_data)\n",
    "\n",
    "data_prediction = classifier.predict(Input_std_data)\n",
    "print(data_prediction)\n",
    "\n",
    "if (data_prediction[0]== 0):\n",
    "  print('The patient is non diabetic')\n",
    "else:\n",
    "  print('The patient is diabetic')"
   ]
  },
  {
   "cell_type": "code",
   "execution_count": 20,
   "metadata": {
    "id": "zr8uq-CC45Le"
   },
   "outputs": [],
   "source": [
    "#X_test.shape"
   ]
  },
  {
   "cell_type": "code",
   "execution_count": 21,
   "metadata": {
    "id": "wJbCH87mCgpD"
   },
   "outputs": [],
   "source": [
    "#X_test_size = X_test.shape[0]"
   ]
  },
  {
   "cell_type": "code",
   "execution_count": 22,
   "metadata": {
    "id": "eUbcRtqDCcoj"
   },
   "outputs": [],
   "source": [
    "#Y_Predict = []\n",
    "\n",
    "#for i in range (X_test_size):\n",
    " # prediction = classifier.predict(X_test)\n",
    "  #Y_Predict.append(prediction)"
   ]
  },
  {
   "cell_type": "code",
   "execution_count": 23,
   "metadata": {
    "id": "0Zddm8INEVnh"
   },
   "outputs": [],
   "source": [
    "#print(X_test)"
   ]
  },
  {
   "cell_type": "code",
   "execution_count": 24,
   "metadata": {
    "id": "eh-m1RGmDUXR"
   },
   "outputs": [],
   "source": [
    "#print(Y_Predict)"
   ]
  },
  {
   "cell_type": "code",
   "execution_count": 25,
   "metadata": {
    "id": "eOl4ssveD8Zq"
   },
   "outputs": [],
   "source": [
    "filename = 'diabetics_model.sav'\n",
    "pickle.dump(classifier, open(filename, 'wb'))"
   ]
  },
  {
   "cell_type": "code",
   "execution_count": 26,
   "metadata": {
    "id": "-6EgNh8kP5mI"
   },
   "outputs": [],
   "source": [
    "loaded_model = pickle.load(open('diabetics_model.sav', 'rb'))"
   ]
  },
  {
   "cell_type": "code",
   "execution_count": 27,
   "metadata": {
    "colab": {
     "base_uri": "https://localhost:8080/"
    },
    "id": "cpRIslHDQN0A",
    "outputId": "4141aa4c-77a4-4915-9aa7-8f423a876a46"
   },
   "outputs": [
    {
     "name": "stdout",
     "output_type": "stream",
     "text": [
      "[1]\n",
      "The patient is diabetic\n"
     ]
    }
   ],
   "source": [
    "Input_data = (1,163,72,0,0,39,1.222,33)\n",
    "\n",
    "Input_data_numpy =  np.asarray(Input_data)\n",
    "\n",
    "Input_data_reshaped = Input_data_numpy.reshape(1, -1)\n",
    "\n",
    "data_prediction = loaded_model.predict(Input_data_reshaped)\n",
    "print(data_prediction)\n",
    "\n",
    "if (data_prediction[0]== 0):\n",
    "  print('The patient is non diabetic')\n",
    "else:\n",
    "  print('The patient is diabetic')"
   ]
  },
  {
   "cell_type": "code",
   "execution_count": 28,
   "metadata": {
    "colab": {
     "base_uri": "https://localhost:8080/"
    },
    "id": "ky8nXDfiTFFT",
    "outputId": "a2fa2b12-8066-47f8-b1d3-a0ea7f8f5aad"
   },
   "outputs": [
    {
     "name": "stdout",
     "output_type": "stream",
     "text": [
      "Pregnancies\n",
      "Glucose\n",
      "BloodPressure\n",
      "SkinThickness\n",
      "Insulin\n",
      "BMI\n",
      "DiabetesPedigreeFunction\n",
      "Age\n",
      "Outcome\n"
     ]
    }
   ],
   "source": [
    "for column in diabetic_data.columns:\n",
    "  print(column)"
   ]
  },
  {
   "cell_type": "code",
   "execution_count": null,
   "metadata": {
    "id": "e-KOrJxbdn8_"
   },
   "outputs": [],
   "source": []
  }
 ],
 "metadata": {
  "colab": {
   "provenance": []
  },
  "kernelspec": {
   "display_name": "Python 3 (ipykernel)",
   "language": "python",
   "name": "python3"
  },
  "language_info": {
   "codemirror_mode": {
    "name": "ipython",
    "version": 3
   },
   "file_extension": ".py",
   "mimetype": "text/x-python",
   "name": "python",
   "nbconvert_exporter": "python",
   "pygments_lexer": "ipython3",
   "version": "3.11.5"
  }
 },
 "nbformat": 4,
 "nbformat_minor": 1
}
